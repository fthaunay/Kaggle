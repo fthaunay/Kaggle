{
 "cells": [
  {
   "cell_type": "code",
   "execution_count": 1,
   "metadata": {
    "collapsed": true
   },
   "outputs": [],
   "source": [
    "import pandas as pd"
   ]
  },
  {
   "cell_type": "code",
   "execution_count": 2,
   "metadata": {
    "collapsed": true
   },
   "outputs": [],
   "source": [
    "train = pd.read_csv(\"train.csv\")"
   ]
  },
  {
   "cell_type": "markdown",
   "metadata": {},
   "source": [
    "* id - unique id of the project application\n",
    "* teacher_id - id of the teacher submitting the application\n",
    "* teacher_prefix - title of the teacher's name (Ms., Mr., etc.)\n",
    "* school_state - US state of the teacher's school\n",
    "* project_submitted_datetime - application submission timestamp\n",
    "* project_grade_category - school grade levels (PreK-2, 3-5, 6-8, and 9-12)\n",
    "* project_subject_categories - category of the project (e.g., \"Music & The Arts\")\n",
    "* project_subject_subcategories - sub-category of the project (e.g., \"Visual Arts\")\n",
    "* project_title - title of the project\n",
    "* project_essay_1 - first essay*\n",
    "* project_essay_2 - second essay*\n",
    "* project_essay_3 - third essay*\n",
    "* project_essay_4 - fourth essay*\n",
    "* project_resource_summary - summary of the resources needed for the project\n",
    "teacher_number_of_previously_posted_projects - number of previously posted applications by the submitting teacher\n",
    "project_is_approved - whether DonorsChoose proposal was accepted (0=\"rejected\", 1=\"accepted\"); train.csv only\n",
    "* Note: Prior to May 17, 2016, the prompts for the essays were as follows:\n",
    "\n",
    "project_essay_1: \"Introduce us to your classroom\"\n",
    "project_essay_2: \"Tell us more about your students\"\n",
    "project_essay_3: \"Describe how your students will use the materials you're requesting\"\n",
    "project_essay_4: \"Close by sharing why your project will make a difference\"\n",
    "Starting on May 17, 2016, the number of essays was reduced from 4 to 2, and the prompts for the first 2 essays were changed to the following:\n",
    "\n",
    "project_essay_1: \"Describe your students: What makes your students special? Specific details about their background, your neighborhood, and your school are all helpful.\"\n",
    "project_essay_2: \"About your project: How will these materials make a difference in your students' learning and improve their school lives?\"\n",
    "For all projects with project_submitted_datetime of 2016-05-17 and later, the values of project_essay_3 and project_essay_4 will be NaN."
   ]
  },
  {
   "cell_type": "code",
   "execution_count": 15,
   "metadata": {
    "collapsed": true
   },
   "outputs": [],
   "source": [
    "resources = pd.read_csv(\"resources.csv\")"
   ]
  },
  {
   "cell_type": "markdown",
   "metadata": {},
   "source": [
    "* id - unique id of the project application; joins with test.csv. and train.csv on id\n",
    "* description - description of the resource requested\n",
    "* quantity - quantity of resource requested\n",
    "* price - price of resource requested"
   ]
  },
  {
   "cell_type": "code",
   "execution_count": 37,
   "metadata": {
    "collapsed": true
   },
   "outputs": [],
   "source": [
    "resourcesS = resources.sample(frac=0.1)"
   ]
  },
  {
   "cell_type": "code",
   "execution_count": 17,
   "metadata": {},
   "outputs": [
    {
     "data": {
      "text/html": [
       "<div>\n",
       "<style>\n",
       "    .dataframe thead tr:only-child th {\n",
       "        text-align: right;\n",
       "    }\n",
       "\n",
       "    .dataframe thead th {\n",
       "        text-align: left;\n",
       "    }\n",
       "\n",
       "    .dataframe tbody tr th {\n",
       "        vertical-align: top;\n",
       "    }\n",
       "</style>\n",
       "<table border=\"1\" class=\"dataframe\">\n",
       "  <thead>\n",
       "    <tr style=\"text-align: right;\">\n",
       "      <th></th>\n",
       "      <th>id</th>\n",
       "      <th>description</th>\n",
       "      <th>quantity</th>\n",
       "      <th>price</th>\n",
       "    </tr>\n",
       "  </thead>\n",
       "  <tbody>\n",
       "    <tr>\n",
       "      <th>250234</th>\n",
       "      <td>p180304</td>\n",
       "      <td>34924-1106:  Glass Globs - Approximately 3/8\" ...</td>\n",
       "      <td>1</td>\n",
       "      <td>4.92</td>\n",
       "    </tr>\n",
       "    <tr>\n",
       "      <th>327422</th>\n",
       "      <td>p189257</td>\n",
       "      <td>LL721 - Level J Nonfiction Extra Book Set - Gr...</td>\n",
       "      <td>1</td>\n",
       "      <td>28.00</td>\n",
       "    </tr>\n",
       "    <tr>\n",
       "      <th>962192</th>\n",
       "      <td>p014958</td>\n",
       "      <td>Sun Deco Classroom Pack</td>\n",
       "      <td>2</td>\n",
       "      <td>32.75</td>\n",
       "    </tr>\n",
       "    <tr>\n",
       "      <th>1180919</th>\n",
       "      <td>p259005</td>\n",
       "      <td>LINKYO Heavy Duty Electric Pencil Sharpener wi...</td>\n",
       "      <td>5</td>\n",
       "      <td>20.95</td>\n",
       "    </tr>\n",
       "    <tr>\n",
       "      <th>52672</th>\n",
       "      <td>p258720</td>\n",
       "      <td>HP Chromebook 11 G4   11 6    Celeron N2840   ...</td>\n",
       "      <td>15</td>\n",
       "      <td>182.15</td>\n",
       "    </tr>\n",
       "    <tr>\n",
       "      <th>1307873</th>\n",
       "      <td>p223181</td>\n",
       "      <td>Camellia Student Oil Pastels  Classroom Pack o...</td>\n",
       "      <td>1</td>\n",
       "      <td>79.25</td>\n",
       "    </tr>\n",
       "    <tr>\n",
       "      <th>146235</th>\n",
       "      <td>p231725</td>\n",
       "      <td>Eureka Tub Of Letter Tiles, 176 Tiles in 3 3/4...</td>\n",
       "      <td>1</td>\n",
       "      <td>9.18</td>\n",
       "    </tr>\n",
       "    <tr>\n",
       "      <th>1077724</th>\n",
       "      <td>p036044</td>\n",
       "      <td>Shark Navigator Freestyle Cordless Stick Vacuu...</td>\n",
       "      <td>1</td>\n",
       "      <td>79.99</td>\n",
       "    </tr>\n",
       "    <tr>\n",
       "      <th>48486</th>\n",
       "      <td>p052683</td>\n",
       "      <td>CALIFONE HEADPHONES W/VOLUME CONTROL - 3068AV</td>\n",
       "      <td>25</td>\n",
       "      <td>12.63</td>\n",
       "    </tr>\n",
       "    <tr>\n",
       "      <th>200639</th>\n",
       "      <td>p250384</td>\n",
       "      <td>GG269 - Multiplication &amp; Division Double Dice ...</td>\n",
       "      <td>1</td>\n",
       "      <td>19.99</td>\n",
       "    </tr>\n",
       "    <tr>\n",
       "      <th>623753</th>\n",
       "      <td>p156596</td>\n",
       "      <td>HP Chromebook 11 G4 11.6 Inch Laptop (Intel N2...</td>\n",
       "      <td>5</td>\n",
       "      <td>157.98</td>\n",
       "    </tr>\n",
       "    <tr>\n",
       "      <th>949533</th>\n",
       "      <td>p218522</td>\n",
       "      <td>Corn</td>\n",
       "      <td>1</td>\n",
       "      <td>5.83</td>\n",
       "    </tr>\n",
       "    <tr>\n",
       "      <th>1474018</th>\n",
       "      <td>p259467</td>\n",
       "      <td>Tiggly Shapes, Educational Toys and Learning G...</td>\n",
       "      <td>1</td>\n",
       "      <td>17.40</td>\n",
       "    </tr>\n",
       "    <tr>\n",
       "      <th>347875</th>\n",
       "      <td>p197903</td>\n",
       "      <td>LEGO Classic Creative Bricks 10692</td>\n",
       "      <td>1</td>\n",
       "      <td>11.99</td>\n",
       "    </tr>\n",
       "    <tr>\n",
       "      <th>474783</th>\n",
       "      <td>p010971</td>\n",
       "      <td>Safco Products 4750GS Zenergy Ball Chair, Grass</td>\n",
       "      <td>1</td>\n",
       "      <td>135.08</td>\n",
       "    </tr>\n",
       "    <tr>\n",
       "      <th>1477339</th>\n",
       "      <td>p036324</td>\n",
       "      <td>TK7414362T 18V Compact Li-Ion 12 Cordless Dril...</td>\n",
       "      <td>2</td>\n",
       "      <td>207.54</td>\n",
       "    </tr>\n",
       "    <tr>\n",
       "      <th>1105308</th>\n",
       "      <td>p098389</td>\n",
       "      <td>00356-1001:  Masquepen Masking Fluid Refill - ...</td>\n",
       "      <td>1</td>\n",
       "      <td>7.61</td>\n",
       "    </tr>\n",
       "    <tr>\n",
       "      <th>1284344</th>\n",
       "      <td>p021694</td>\n",
       "      <td>EE659 - Teaching Place Value Activity Center</td>\n",
       "      <td>1</td>\n",
       "      <td>29.99</td>\n",
       "    </tr>\n",
       "    <tr>\n",
       "      <th>422514</th>\n",
       "      <td>p041422</td>\n",
       "      <td>Because of Mr. Terupt</td>\n",
       "      <td>1</td>\n",
       "      <td>7.73</td>\n",
       "    </tr>\n",
       "    <tr>\n",
       "      <th>1249734</th>\n",
       "      <td>p109593</td>\n",
       "      <td>DD101 - Magnetic Write &amp; Wipe Markers with Era...</td>\n",
       "      <td>5</td>\n",
       "      <td>8.99</td>\n",
       "    </tr>\n",
       "    <tr>\n",
       "      <th>1152103</th>\n",
       "      <td>p025698</td>\n",
       "      <td>HH965X - Pop &amp; Add Games - Complete Set</td>\n",
       "      <td>1</td>\n",
       "      <td>79.99</td>\n",
       "    </tr>\n",
       "    <tr>\n",
       "      <th>165111</th>\n",
       "      <td>p074166</td>\n",
       "      <td>Zeox Apple iPad Air Case - 360 Degree Rotating...</td>\n",
       "      <td>1</td>\n",
       "      <td>19.99</td>\n",
       "    </tr>\n",
       "    <tr>\n",
       "      <th>1302817</th>\n",
       "      <td>p054663</td>\n",
       "      <td>Famavala Folio PU Leather Case Cover For 7\" Fi...</td>\n",
       "      <td>1</td>\n",
       "      <td>7.99</td>\n",
       "    </tr>\n",
       "    <tr>\n",
       "      <th>1200041</th>\n",
       "      <td>p135261</td>\n",
       "      <td>DS164BU - Easy-Clean Room Divider - Blue</td>\n",
       "      <td>2</td>\n",
       "      <td>129.00</td>\n",
       "    </tr>\n",
       "    <tr>\n",
       "      <th>1406193</th>\n",
       "      <td>p001313</td>\n",
       "      <td>Makey Makey - An Invention Kit for Everyone</td>\n",
       "      <td>8</td>\n",
       "      <td>49.95</td>\n",
       "    </tr>\n",
       "    <tr>\n",
       "      <th>625673</th>\n",
       "      <td>p182622</td>\n",
       "      <td>Neenah Astrobrights Premium Color Paper Assort...</td>\n",
       "      <td>2</td>\n",
       "      <td>10.19</td>\n",
       "    </tr>\n",
       "    <tr>\n",
       "      <th>1200854</th>\n",
       "      <td>p132471</td>\n",
       "      <td>Tooboo Men's Winter Thicken Down Hooded Coat O...</td>\n",
       "      <td>1</td>\n",
       "      <td>18.90</td>\n",
       "    </tr>\n",
       "    <tr>\n",
       "      <th>1167899</th>\n",
       "      <td>p081710</td>\n",
       "      <td>TT110 - Count &amp; Compare Big Numbers</td>\n",
       "      <td>1</td>\n",
       "      <td>29.99</td>\n",
       "    </tr>\n",
       "    <tr>\n",
       "      <th>1195986</th>\n",
       "      <td>p195433</td>\n",
       "      <td>She Believed She Could So She Did</td>\n",
       "      <td>10</td>\n",
       "      <td>6.60</td>\n",
       "    </tr>\n",
       "    <tr>\n",
       "      <th>962442</th>\n",
       "      <td>p146923</td>\n",
       "      <td>National Geographic Readers: Great Migrations ...</td>\n",
       "      <td>1</td>\n",
       "      <td>3.46</td>\n",
       "    </tr>\n",
       "    <tr>\n",
       "      <th>...</th>\n",
       "      <td>...</td>\n",
       "      <td>...</td>\n",
       "      <td>...</td>\n",
       "      <td>...</td>\n",
       "    </tr>\n",
       "    <tr>\n",
       "      <th>341647</th>\n",
       "      <td>p177897</td>\n",
       "      <td>Aristotle and Dante Discover the Secrets of th...</td>\n",
       "      <td>4</td>\n",
       "      <td>7.31</td>\n",
       "    </tr>\n",
       "    <tr>\n",
       "      <th>890100</th>\n",
       "      <td>p028030</td>\n",
       "      <td>Vinyl Double Decko - Sage</td>\n",
       "      <td>4</td>\n",
       "      <td>118.96</td>\n",
       "    </tr>\n",
       "    <tr>\n",
       "      <th>1193281</th>\n",
       "      <td>p000112</td>\n",
       "      <td>Bad Kitty for President</td>\n",
       "      <td>2</td>\n",
       "      <td>5.10</td>\n",
       "    </tr>\n",
       "    <tr>\n",
       "      <th>471338</th>\n",
       "      <td>p189538</td>\n",
       "      <td>FG219 - Peel &amp; Stick Puzzle Letters</td>\n",
       "      <td>1</td>\n",
       "      <td>7.99</td>\n",
       "    </tr>\n",
       "    <tr>\n",
       "      <th>152453</th>\n",
       "      <td>p079887</td>\n",
       "      <td>Staples School Grade 2 Pocket Folder, Blue, 25...</td>\n",
       "      <td>1</td>\n",
       "      <td>9.69</td>\n",
       "    </tr>\n",
       "    <tr>\n",
       "      <th>856118</th>\n",
       "      <td>p245728</td>\n",
       "      <td>Premium Royal Inspiration Station</td>\n",
       "      <td>1</td>\n",
       "      <td>576.25</td>\n",
       "    </tr>\n",
       "    <tr>\n",
       "      <th>1226066</th>\n",
       "      <td>p027164</td>\n",
       "      <td>EllRay Jakes Is Not a Chicken</td>\n",
       "      <td>1</td>\n",
       "      <td>4.19</td>\n",
       "    </tr>\n",
       "    <tr>\n",
       "      <th>1307951</th>\n",
       "      <td>p005420</td>\n",
       "      <td>BrainBox(r) STEAM Set (Set of 4)</td>\n",
       "      <td>1</td>\n",
       "      <td>50.96</td>\n",
       "    </tr>\n",
       "    <tr>\n",
       "      <th>1131149</th>\n",
       "      <td>p053111</td>\n",
       "      <td>Osmo Genius Kit</td>\n",
       "      <td>1</td>\n",
       "      <td>99.95</td>\n",
       "    </tr>\n",
       "    <tr>\n",
       "      <th>1244946</th>\n",
       "      <td>p255999</td>\n",
       "      <td>Wonder Workshop Accessories Pack for Dash and ...</td>\n",
       "      <td>1</td>\n",
       "      <td>23.99</td>\n",
       "    </tr>\n",
       "    <tr>\n",
       "      <th>869798</th>\n",
       "      <td>p069751</td>\n",
       "      <td>Kids Kore Wobble Chair 14\" - Purple</td>\n",
       "      <td>2</td>\n",
       "      <td>59.49</td>\n",
       "    </tr>\n",
       "    <tr>\n",
       "      <th>398397</th>\n",
       "      <td>p036920</td>\n",
       "      <td>KIT STABILI-T-STOOL AND SPOTS</td>\n",
       "      <td>1</td>\n",
       "      <td>284.94</td>\n",
       "    </tr>\n",
       "    <tr>\n",
       "      <th>1462612</th>\n",
       "      <td>p000605</td>\n",
       "      <td>What Is a Liquid? (First Step Nonfiction (Pape...</td>\n",
       "      <td>1</td>\n",
       "      <td>6.95</td>\n",
       "    </tr>\n",
       "    <tr>\n",
       "      <th>1360384</th>\n",
       "      <td>p014746</td>\n",
       "      <td>Dove Purely Pampering Body Wash, Pistachio Cre...</td>\n",
       "      <td>1</td>\n",
       "      <td>36.40</td>\n",
       "    </tr>\n",
       "    <tr>\n",
       "      <th>1455115</th>\n",
       "      <td>p166128</td>\n",
       "      <td>SW418 - 2-Way Sand &amp; Water Table</td>\n",
       "      <td>1</td>\n",
       "      <td>129.00</td>\n",
       "    </tr>\n",
       "    <tr>\n",
       "      <th>1401980</th>\n",
       "      <td>p043684</td>\n",
       "      <td>LA532 - Lowercase Alphabet Dough Stampers</td>\n",
       "      <td>2</td>\n",
       "      <td>24.99</td>\n",
       "    </tr>\n",
       "    <tr>\n",
       "      <th>1163658</th>\n",
       "      <td>p078908</td>\n",
       "      <td>ETA hand2mind Equabeam Balance</td>\n",
       "      <td>2</td>\n",
       "      <td>27.09</td>\n",
       "    </tr>\n",
       "    <tr>\n",
       "      <th>96045</th>\n",
       "      <td>p079999</td>\n",
       "      <td>adidas Triple Stripe T-Ball Batting Helmet 2015</td>\n",
       "      <td>1</td>\n",
       "      <td>19.99</td>\n",
       "    </tr>\n",
       "    <tr>\n",
       "      <th>339558</th>\n",
       "      <td>p219634</td>\n",
       "      <td>Abuela (English Edition with Spanish Phrases)</td>\n",
       "      <td>1</td>\n",
       "      <td>14.29</td>\n",
       "    </tr>\n",
       "    <tr>\n",
       "      <th>1051574</th>\n",
       "      <td>p076389</td>\n",
       "      <td>GG860X - Learning Science Libraries - Gr. 1-3</td>\n",
       "      <td>1</td>\n",
       "      <td>255.00</td>\n",
       "    </tr>\n",
       "    <tr>\n",
       "      <th>963408</th>\n",
       "      <td>p179448</td>\n",
       "      <td>Play Doh Super Tools</td>\n",
       "      <td>1</td>\n",
       "      <td>13.52</td>\n",
       "    </tr>\n",
       "    <tr>\n",
       "      <th>1305937</th>\n",
       "      <td>p135383</td>\n",
       "      <td>Bouncy Bands for Chair (Blue support pipes)</td>\n",
       "      <td>4</td>\n",
       "      <td>13.95</td>\n",
       "    </tr>\n",
       "    <tr>\n",
       "      <th>494398</th>\n",
       "      <td>p038206</td>\n",
       "      <td>Ipevo Ziggi-HD Plus High-Definition USB Docume...</td>\n",
       "      <td>1</td>\n",
       "      <td>99.00</td>\n",
       "    </tr>\n",
       "    <tr>\n",
       "      <th>209424</th>\n",
       "      <td>p206448</td>\n",
       "      <td>Osmo Numbers Set</td>\n",
       "      <td>1</td>\n",
       "      <td>29.99</td>\n",
       "    </tr>\n",
       "    <tr>\n",
       "      <th>305584</th>\n",
       "      <td>p098411</td>\n",
       "      <td>Melissa &amp; Doug Ice Cream Scoop Set</td>\n",
       "      <td>1</td>\n",
       "      <td>25.29</td>\n",
       "    </tr>\n",
       "    <tr>\n",
       "      <th>95881</th>\n",
       "      <td>p107484</td>\n",
       "      <td>Fun Express Break Your Own Geodes - 12 Pieces</td>\n",
       "      <td>1</td>\n",
       "      <td>10.08</td>\n",
       "    </tr>\n",
       "    <tr>\n",
       "      <th>1453719</th>\n",
       "      <td>p153427</td>\n",
       "      <td>CHART RACK 24X30 MAN TAG 25 SHT RULED SW</td>\n",
       "      <td>1</td>\n",
       "      <td>45.15</td>\n",
       "    </tr>\n",
       "    <tr>\n",
       "      <th>869087</th>\n",
       "      <td>p187871</td>\n",
       "      <td>Guide to Marine Mammals and Turtles of the U.S...</td>\n",
       "      <td>2</td>\n",
       "      <td>25.00</td>\n",
       "    </tr>\n",
       "    <tr>\n",
       "      <th>379474</th>\n",
       "      <td>p088531</td>\n",
       "      <td>Hokki Stool - 15\" Red</td>\n",
       "      <td>1</td>\n",
       "      <td>96.01</td>\n",
       "    </tr>\n",
       "    <tr>\n",
       "      <th>167233</th>\n",
       "      <td>p024085</td>\n",
       "      <td>Ozark River Lil Step SlipResistant Riser</td>\n",
       "      <td>1</td>\n",
       "      <td>67.96</td>\n",
       "    </tr>\n",
       "  </tbody>\n",
       "</table>\n",
       "<p>15413 rows × 4 columns</p>\n",
       "</div>"
      ],
      "text/plain": [
       "              id                                        description  quantity  \\\n",
       "250234   p180304  34924-1106:  Glass Globs - Approximately 3/8\" ...         1   \n",
       "327422   p189257  LL721 - Level J Nonfiction Extra Book Set - Gr...         1   \n",
       "962192   p014958                            Sun Deco Classroom Pack         2   \n",
       "1180919  p259005  LINKYO Heavy Duty Electric Pencil Sharpener wi...         5   \n",
       "52672    p258720  HP Chromebook 11 G4   11 6    Celeron N2840   ...        15   \n",
       "1307873  p223181  Camellia Student Oil Pastels  Classroom Pack o...         1   \n",
       "146235   p231725  Eureka Tub Of Letter Tiles, 176 Tiles in 3 3/4...         1   \n",
       "1077724  p036044  Shark Navigator Freestyle Cordless Stick Vacuu...         1   \n",
       "48486    p052683      CALIFONE HEADPHONES W/VOLUME CONTROL - 3068AV        25   \n",
       "200639   p250384  GG269 - Multiplication & Division Double Dice ...         1   \n",
       "623753   p156596  HP Chromebook 11 G4 11.6 Inch Laptop (Intel N2...         5   \n",
       "949533   p218522                                               Corn         1   \n",
       "1474018  p259467  Tiggly Shapes, Educational Toys and Learning G...         1   \n",
       "347875   p197903                 LEGO Classic Creative Bricks 10692         1   \n",
       "474783   p010971    Safco Products 4750GS Zenergy Ball Chair, Grass         1   \n",
       "1477339  p036324  TK7414362T 18V Compact Li-Ion 12 Cordless Dril...         2   \n",
       "1105308  p098389  00356-1001:  Masquepen Masking Fluid Refill - ...         1   \n",
       "1284344  p021694       EE659 - Teaching Place Value Activity Center         1   \n",
       "422514   p041422                              Because of Mr. Terupt         1   \n",
       "1249734  p109593  DD101 - Magnetic Write & Wipe Markers with Era...         5   \n",
       "1152103  p025698            HH965X - Pop & Add Games - Complete Set         1   \n",
       "165111   p074166  Zeox Apple iPad Air Case - 360 Degree Rotating...         1   \n",
       "1302817  p054663  Famavala Folio PU Leather Case Cover For 7\" Fi...         1   \n",
       "1200041  p135261           DS164BU - Easy-Clean Room Divider - Blue         2   \n",
       "1406193  p001313        Makey Makey - An Invention Kit for Everyone         8   \n",
       "625673   p182622  Neenah Astrobrights Premium Color Paper Assort...         2   \n",
       "1200854  p132471  Tooboo Men's Winter Thicken Down Hooded Coat O...         1   \n",
       "1167899  p081710                TT110 - Count & Compare Big Numbers         1   \n",
       "1195986  p195433                  She Believed She Could So She Did        10   \n",
       "962442   p146923  National Geographic Readers: Great Migrations ...         1   \n",
       "...          ...                                                ...       ...   \n",
       "341647   p177897  Aristotle and Dante Discover the Secrets of th...         4   \n",
       "890100   p028030                          Vinyl Double Decko - Sage         4   \n",
       "1193281  p000112                            Bad Kitty for President         2   \n",
       "471338   p189538                FG219 - Peel & Stick Puzzle Letters         1   \n",
       "152453   p079887  Staples School Grade 2 Pocket Folder, Blue, 25...         1   \n",
       "856118   p245728                  Premium Royal Inspiration Station         1   \n",
       "1226066  p027164                      EllRay Jakes Is Not a Chicken         1   \n",
       "1307951  p005420                   BrainBox(r) STEAM Set (Set of 4)         1   \n",
       "1131149  p053111                                    Osmo Genius Kit         1   \n",
       "1244946  p255999  Wonder Workshop Accessories Pack for Dash and ...         1   \n",
       "869798   p069751                Kids Kore Wobble Chair 14\" - Purple         2   \n",
       "398397   p036920                      KIT STABILI-T-STOOL AND SPOTS         1   \n",
       "1462612  p000605  What Is a Liquid? (First Step Nonfiction (Pape...         1   \n",
       "1360384  p014746  Dove Purely Pampering Body Wash, Pistachio Cre...         1   \n",
       "1455115  p166128                   SW418 - 2-Way Sand & Water Table         1   \n",
       "1401980  p043684          LA532 - Lowercase Alphabet Dough Stampers         2   \n",
       "1163658  p078908                     ETA hand2mind Equabeam Balance         2   \n",
       "96045    p079999    adidas Triple Stripe T-Ball Batting Helmet 2015         1   \n",
       "339558   p219634      Abuela (English Edition with Spanish Phrases)         1   \n",
       "1051574  p076389     GG860X - Learning Science Libraries - Gr. 1-3          1   \n",
       "963408   p179448                               Play Doh Super Tools         1   \n",
       "1305937  p135383        Bouncy Bands for Chair (Blue support pipes)         4   \n",
       "494398   p038206  Ipevo Ziggi-HD Plus High-Definition USB Docume...         1   \n",
       "209424   p206448                                   Osmo Numbers Set         1   \n",
       "305584   p098411                 Melissa & Doug Ice Cream Scoop Set         1   \n",
       "95881    p107484      Fun Express Break Your Own Geodes - 12 Pieces         1   \n",
       "1453719  p153427           CHART RACK 24X30 MAN TAG 25 SHT RULED SW         1   \n",
       "869087   p187871  Guide to Marine Mammals and Turtles of the U.S...         2   \n",
       "379474   p088531                              Hokki Stool - 15\" Red         1   \n",
       "167233   p024085           Ozark River Lil Step SlipResistant Riser         1   \n",
       "\n",
       "          price  \n",
       "250234     4.92  \n",
       "327422    28.00  \n",
       "962192    32.75  \n",
       "1180919   20.95  \n",
       "52672    182.15  \n",
       "1307873   79.25  \n",
       "146235     9.18  \n",
       "1077724   79.99  \n",
       "48486     12.63  \n",
       "200639    19.99  \n",
       "623753   157.98  \n",
       "949533     5.83  \n",
       "1474018   17.40  \n",
       "347875    11.99  \n",
       "474783   135.08  \n",
       "1477339  207.54  \n",
       "1105308    7.61  \n",
       "1284344   29.99  \n",
       "422514     7.73  \n",
       "1249734    8.99  \n",
       "1152103   79.99  \n",
       "165111    19.99  \n",
       "1302817    7.99  \n",
       "1200041  129.00  \n",
       "1406193   49.95  \n",
       "625673    10.19  \n",
       "1200854   18.90  \n",
       "1167899   29.99  \n",
       "1195986    6.60  \n",
       "962442     3.46  \n",
       "...         ...  \n",
       "341647     7.31  \n",
       "890100   118.96  \n",
       "1193281    5.10  \n",
       "471338     7.99  \n",
       "152453     9.69  \n",
       "856118   576.25  \n",
       "1226066    4.19  \n",
       "1307951   50.96  \n",
       "1131149   99.95  \n",
       "1244946   23.99  \n",
       "869798    59.49  \n",
       "398397   284.94  \n",
       "1462612    6.95  \n",
       "1360384   36.40  \n",
       "1455115  129.00  \n",
       "1401980   24.99  \n",
       "1163658   27.09  \n",
       "96045     19.99  \n",
       "339558    14.29  \n",
       "1051574  255.00  \n",
       "963408    13.52  \n",
       "1305937   13.95  \n",
       "494398    99.00  \n",
       "209424    29.99  \n",
       "305584    25.29  \n",
       "95881     10.08  \n",
       "1453719   45.15  \n",
       "869087    25.00  \n",
       "379474    96.01  \n",
       "167233    67.96  \n",
       "\n",
       "[15413 rows x 4 columns]"
      ]
     },
     "execution_count": 17,
     "metadata": {},
     "output_type": "execute_result"
    }
   ],
   "source": [
    "resourcesS"
   ]
  },
  {
   "cell_type": "code",
   "execution_count": 3,
   "metadata": {
    "collapsed": true
   },
   "outputs": [],
   "source": [
    "trainS = train.sample(frac=0.1)"
   ]
  },
  {
   "cell_type": "markdown",
   "metadata": {},
   "source": [
    "# Infos sur les profs \n",
    "* ratio profs / projets et distribution\n",
    "* prefix "
   ]
  },
  {
   "cell_type": "code",
   "execution_count": 4,
   "metadata": {},
   "outputs": [
    {
     "data": {
      "text/html": [
       "<div>\n",
       "<style>\n",
       "    .dataframe thead tr:only-child th {\n",
       "        text-align: right;\n",
       "    }\n",
       "\n",
       "    .dataframe thead th {\n",
       "        text-align: left;\n",
       "    }\n",
       "\n",
       "    .dataframe tbody tr th {\n",
       "        vertical-align: top;\n",
       "    }\n",
       "</style>\n",
       "<table border=\"1\" class=\"dataframe\">\n",
       "  <thead>\n",
       "    <tr style=\"text-align: right;\">\n",
       "      <th></th>\n",
       "      <th>id</th>\n",
       "      <th>teacher_id</th>\n",
       "      <th>teacher_prefix</th>\n",
       "      <th>school_state</th>\n",
       "      <th>project_submitted_datetime</th>\n",
       "      <th>project_grade_category</th>\n",
       "      <th>project_subject_categories</th>\n",
       "      <th>project_subject_subcategories</th>\n",
       "      <th>project_title</th>\n",
       "      <th>project_essay_1</th>\n",
       "      <th>project_essay_2</th>\n",
       "      <th>project_essay_3</th>\n",
       "      <th>project_essay_4</th>\n",
       "      <th>project_resource_summary</th>\n",
       "      <th>teacher_number_of_previously_posted_projects</th>\n",
       "      <th>project_is_approved</th>\n",
       "    </tr>\n",
       "  </thead>\n",
       "  <tbody>\n",
       "    <tr>\n",
       "      <th>131385</th>\n",
       "      <td>p128681</td>\n",
       "      <td>f0f01edd19d45ee3743426309ff3f0c5</td>\n",
       "      <td>Mrs.</td>\n",
       "      <td>FL</td>\n",
       "      <td>2016-10-07 15:22:48</td>\n",
       "      <td>Grades PreK-2</td>\n",
       "      <td>Literacy &amp; Language</td>\n",
       "      <td>ESL, Literacy</td>\n",
       "      <td>Laptops to Engage Wonder and Learning</td>\n",
       "      <td>I was recently moved from Kindergarten, to sec...</td>\n",
       "      <td>Technology is here to stay. Children nowadays ...</td>\n",
       "      <td>NaN</td>\n",
       "      <td>NaN</td>\n",
       "      <td>My students need 4 laptops and a speaker in or...</td>\n",
       "      <td>3</td>\n",
       "      <td>1</td>\n",
       "    </tr>\n",
       "    <tr>\n",
       "      <th>175778</th>\n",
       "      <td>p229097</td>\n",
       "      <td>20a682562314b02176f816d89b141f17</td>\n",
       "      <td>Mrs.</td>\n",
       "      <td>NC</td>\n",
       "      <td>2016-06-19 10:05:43</td>\n",
       "      <td>Grades 3-5</td>\n",
       "      <td>Literacy &amp; Language</td>\n",
       "      <td>Literature &amp; Writing</td>\n",
       "      <td>Our Class Is Outta Sight, Our Future Is Lookin...</td>\n",
       "      <td>I am so fortunate to teach in a wonderful magn...</td>\n",
       "      <td>I am requesting 3 different types of chairs to...</td>\n",
       "      <td>NaN</td>\n",
       "      <td>NaN</td>\n",
       "      <td>My students need 2 rocker chairs, 2 saucer cha...</td>\n",
       "      <td>22</td>\n",
       "      <td>1</td>\n",
       "    </tr>\n",
       "    <tr>\n",
       "      <th>25328</th>\n",
       "      <td>p184758</td>\n",
       "      <td>03910418e66c1dda0ab63e53ac35697d</td>\n",
       "      <td>Mrs.</td>\n",
       "      <td>CA</td>\n",
       "      <td>2017-01-26 11:19:40</td>\n",
       "      <td>Grades 3-5</td>\n",
       "      <td>Music &amp; The Arts</td>\n",
       "      <td>Music</td>\n",
       "      <td>Large Instruments for Music Class!</td>\n",
       "      <td>My students are a diverse group of individuals...</td>\n",
       "      <td>My students are in need of high quality, safe,...</td>\n",
       "      <td>NaN</td>\n",
       "      <td>NaN</td>\n",
       "      <td>My students need instruments to fill our class...</td>\n",
       "      <td>2</td>\n",
       "      <td>1</td>\n",
       "    </tr>\n",
       "    <tr>\n",
       "      <th>33359</th>\n",
       "      <td>p119821</td>\n",
       "      <td>7a899d9167640f4b7f8b48bf0994ac66</td>\n",
       "      <td>Mr.</td>\n",
       "      <td>CT</td>\n",
       "      <td>2017-02-13 17:14:42</td>\n",
       "      <td>Grades 6-8</td>\n",
       "      <td>Math &amp; Science</td>\n",
       "      <td>Environmental Science, Mathematics</td>\n",
       "      <td>Grab A Class Tablet! No One Gets Left Out!</td>\n",
       "      <td>My students come in to school each day with an...</td>\n",
       "      <td>The use of personal devices in my classroom is...</td>\n",
       "      <td>NaN</td>\n",
       "      <td>NaN</td>\n",
       "      <td>My students need cost-effective tablets that a...</td>\n",
       "      <td>2</td>\n",
       "      <td>1</td>\n",
       "    </tr>\n",
       "    <tr>\n",
       "      <th>18626</th>\n",
       "      <td>p095071</td>\n",
       "      <td>29e355b227cfdfa8ce60ad084fb1c88e</td>\n",
       "      <td>Mr.</td>\n",
       "      <td>TX</td>\n",
       "      <td>2016-09-27 14:08:16</td>\n",
       "      <td>Grades 3-5</td>\n",
       "      <td>Health &amp; Sports</td>\n",
       "      <td>Gym &amp; Fitness, Team Sports</td>\n",
       "      <td>Bump!  Set!  Spike!</td>\n",
       "      <td>I teach 600 kids physical education daily. In ...</td>\n",
       "      <td>My students watched the Olympics and were fasc...</td>\n",
       "      <td>NaN</td>\n",
       "      <td>NaN</td>\n",
       "      <td>My students need soft volleyballs to be able t...</td>\n",
       "      <td>5</td>\n",
       "      <td>1</td>\n",
       "    </tr>\n",
       "  </tbody>\n",
       "</table>\n",
       "</div>"
      ],
      "text/plain": [
       "             id                        teacher_id teacher_prefix school_state  \\\n",
       "131385  p128681  f0f01edd19d45ee3743426309ff3f0c5           Mrs.           FL   \n",
       "175778  p229097  20a682562314b02176f816d89b141f17           Mrs.           NC   \n",
       "25328   p184758  03910418e66c1dda0ab63e53ac35697d           Mrs.           CA   \n",
       "33359   p119821  7a899d9167640f4b7f8b48bf0994ac66            Mr.           CT   \n",
       "18626   p095071  29e355b227cfdfa8ce60ad084fb1c88e            Mr.           TX   \n",
       "\n",
       "       project_submitted_datetime project_grade_category  \\\n",
       "131385        2016-10-07 15:22:48          Grades PreK-2   \n",
       "175778        2016-06-19 10:05:43             Grades 3-5   \n",
       "25328         2017-01-26 11:19:40             Grades 3-5   \n",
       "33359         2017-02-13 17:14:42             Grades 6-8   \n",
       "18626         2016-09-27 14:08:16             Grades 3-5   \n",
       "\n",
       "       project_subject_categories       project_subject_subcategories  \\\n",
       "131385        Literacy & Language                       ESL, Literacy   \n",
       "175778        Literacy & Language                Literature & Writing   \n",
       "25328            Music & The Arts                               Music   \n",
       "33359              Math & Science  Environmental Science, Mathematics   \n",
       "18626             Health & Sports          Gym & Fitness, Team Sports   \n",
       "\n",
       "                                            project_title  \\\n",
       "131385              Laptops to Engage Wonder and Learning   \n",
       "175778  Our Class Is Outta Sight, Our Future Is Lookin...   \n",
       "25328                  Large Instruments for Music Class!   \n",
       "33359          Grab A Class Tablet! No One Gets Left Out!   \n",
       "18626                                 Bump!  Set!  Spike!   \n",
       "\n",
       "                                          project_essay_1  \\\n",
       "131385  I was recently moved from Kindergarten, to sec...   \n",
       "175778  I am so fortunate to teach in a wonderful magn...   \n",
       "25328   My students are a diverse group of individuals...   \n",
       "33359   My students come in to school each day with an...   \n",
       "18626   I teach 600 kids physical education daily. In ...   \n",
       "\n",
       "                                          project_essay_2 project_essay_3  \\\n",
       "131385  Technology is here to stay. Children nowadays ...             NaN   \n",
       "175778  I am requesting 3 different types of chairs to...             NaN   \n",
       "25328   My students are in need of high quality, safe,...             NaN   \n",
       "33359   The use of personal devices in my classroom is...             NaN   \n",
       "18626   My students watched the Olympics and were fasc...             NaN   \n",
       "\n",
       "       project_essay_4                           project_resource_summary  \\\n",
       "131385             NaN  My students need 4 laptops and a speaker in or...   \n",
       "175778             NaN  My students need 2 rocker chairs, 2 saucer cha...   \n",
       "25328              NaN  My students need instruments to fill our class...   \n",
       "33359              NaN  My students need cost-effective tablets that a...   \n",
       "18626              NaN  My students need soft volleyballs to be able t...   \n",
       "\n",
       "        teacher_number_of_previously_posted_projects  project_is_approved  \n",
       "131385                                             3                    1  \n",
       "175778                                            22                    1  \n",
       "25328                                              2                    1  \n",
       "33359                                              2                    1  \n",
       "18626                                              5                    1  "
      ]
     },
     "execution_count": 4,
     "metadata": {},
     "output_type": "execute_result"
    }
   ],
   "source": [
    "trainS.head()"
   ]
  },
  {
   "cell_type": "code",
   "execution_count": 5,
   "metadata": {},
   "outputs": [
    {
     "name": "stdout",
     "output_type": "stream",
     "text": [
      "There are 18208 projects for 16191 teachers.\n"
     ]
    }
   ],
   "source": [
    "print ('There are {0} projects for {1} teachers.'\n",
    "       .format(len(set(trainS.id)),len(set(trainS.teacher_id))))"
   ]
  },
  {
   "cell_type": "code",
   "execution_count": 6,
   "metadata": {
    "collapsed": true
   },
   "outputs": [],
   "source": [
    "%matplotlib inline\n",
    "import numpy as np\n",
    "import pandas as pd\n",
    "from scipy import stats, integrate\n",
    "import matplotlib.pyplot as plt\n",
    "import seaborn as sns\n",
    "sns.set(color_codes=True)"
   ]
  },
  {
   "cell_type": "code",
   "execution_count": 7,
   "metadata": {},
   "outputs": [
    {
     "data": {
      "text/plain": [
       "'9003d49137127490ba3d6ab7dbdb26e1'"
      ]
     },
     "execution_count": 7,
     "metadata": {},
     "output_type": "execute_result"
    }
   ],
   "source": [
    "teachers = list(set(trainS.teacher_id))\n",
    "teachers[0]"
   ]
  },
  {
   "cell_type": "code",
   "execution_count": 8,
   "metadata": {
    "collapsed": true
   },
   "outputs": [],
   "source": [
    "distrib = []\n",
    "for teacher in teachers :\n",
    "    distrib.append(len(trainS[trainS[\"teacher_id\"] == teacher]))"
   ]
  },
  {
   "cell_type": "code",
   "execution_count": 9,
   "metadata": {},
   "outputs": [
    {
     "data": {
      "text/plain": [
       "16191"
      ]
     },
     "execution_count": 9,
     "metadata": {},
     "output_type": "execute_result"
    }
   ],
   "source": [
    "len(distrib)"
   ]
  },
  {
   "cell_type": "code",
   "execution_count": 11,
   "metadata": {},
   "outputs": [
    {
     "name": "stderr",
     "output_type": "stream",
     "text": [
      "/Users/thaunay/anaconda3/envs/py36/lib/python3.6/site-packages/matplotlib/axes/_axes.py:6448: UserWarning: The 'normed' kwarg is deprecated, and has been replaced by the 'density' kwarg.\n",
      "  warnings.warn(\"The 'normed' kwarg is deprecated, and has been \"\n"
     ]
    },
    {
     "data": {
      "text/plain": [
       "<matplotlib.axes._subplots.AxesSubplot at 0x117397d68>"
      ]
     },
     "execution_count": 11,
     "metadata": {},
     "output_type": "execute_result"
    },
    {
     "data": {
      "image/png": "[encoded data removed]",
      "text/plain": [
       "<Figure size 432x288 with 1 Axes>"
      ]
     },
     "metadata": {},
     "output_type": "display_data"
    }
   ],
   "source": [
    "sns.distplot(distrib)"
   ]
  },
  {
   "cell_type": "code",
   "execution_count": 12,
   "metadata": {
    "collapsed": true
   },
   "outputs": [],
   "source": [
    "l = [[x,distrib.count(x)] for x in set(distrib)]"
   ]
  },
  {
   "cell_type": "code",
   "execution_count": 13,
   "metadata": {},
   "outputs": [
    {
     "data": {
      "text/plain": [
       "[[1, 14720],\n",
       " [2, 1109],\n",
       " [3, 253],\n",
       " [4, 64],\n",
       " [5, 31],\n",
       " [6, 4],\n",
       " [7, 6],\n",
       " [8, 2],\n",
       " [9, 2]]"
      ]
     },
     "execution_count": 13,
     "metadata": {},
     "output_type": "execute_result"
    }
   ],
   "source": [
    "l"
   ]
  },
  {
   "cell_type": "code",
   "execution_count": 14,
   "metadata": {},
   "outputs": [
    {
     "data": {
      "image/png": "[encoded data removed]",
      "text/plain": [
       "<Figure size 432x288 with 1 Axes>"
      ]
     },
     "metadata": {},
     "output_type": "display_data"
    }
   ],
   "source": [
    "l = [[x,distrib.count(x)] for x in set(distrib)]\n",
    "labels = [x[0] for x in  l]\n",
    "sizes = [x[1] for x in  l]\n",
    "explode = (0, 0, 0.1, 0.2, 0.3, 0.4, 0.5, 0.6)  # only \"explode\" the 2nd slice (i.e. 'Hogs')\n",
    "\n",
    "fig1, ax1 = plt.subplots()\n",
    "ax1.pie(sizes, labels=labels, autopct='%1.1f%%',\n",
    "        shadow=True, startangle=90)\n",
    "ax1.axis('equal')  # Equal aspect ratio ensures that pie is drawn as a circle.\n",
    "\n",
    "plt.show()"
   ]
  },
  {
   "cell_type": "markdown",
   "metadata": {},
   "source": [
    "Tres peu de profs realisent plus de 2 projets. \n",
    "En partie dû au fait que les nouvelles règles l'empèche "
   ]
  },
  {
   "cell_type": "code",
   "execution_count": 15,
   "metadata": {
    "collapsed": true
   },
   "outputs": [],
   "source": [
    "# Certains professeurs ont-ils plusieurs projets acceptés ?\n",
    "trainS_approved = trainS[trainS[\"project_is_approved\"] == 1]"
   ]
  },
  {
   "cell_type": "code",
   "execution_count": 16,
   "metadata": {},
   "outputs": [
    {
     "name": "stdout",
     "output_type": "stream",
     "text": [
      "There are 15388 projects approved  for 13767 teachers.\n"
     ]
    }
   ],
   "source": [
    "print ('There are {0} projects approved  for {1} teachers.'\n",
    "       .format(len(trainS_approved),len(set(trainS_approved[\"teacher_id\"]))))"
   ]
  },
  {
   "cell_type": "code",
   "execution_count": 17,
   "metadata": {},
   "outputs": [
    {
     "data": {
      "text/plain": [
       "0.889618409933043"
      ]
     },
     "execution_count": 17,
     "metadata": {},
     "output_type": "execute_result"
    }
   ],
   "source": [
    "13685/15383"
   ]
  },
  {
   "cell_type": "code",
   "execution_count": 18,
   "metadata": {
    "collapsed": true
   },
   "outputs": [],
   "source": [
    "# Oui 11 % qui valident plusieurs projets"
   ]
  },
  {
   "cell_type": "code",
   "execution_count": 19,
   "metadata": {},
   "outputs": [
    {
     "name": "stdout",
     "output_type": "stream",
     "text": [
      "16021\n"
     ]
    }
   ],
   "source": [
    "# importance du titre dans les projets déposés et validés ?\n",
    "trainS_women = trainS[trainS[\"teacher_prefix\"].isin([\"Mrs.\", \"Ms.\"])]\n",
    "trainS_approved_women = trainS_approved[trainS_approved[\"teacher_prefix\"].isin([\"Mrs.\", \"Ms.\"])]\n",
    "\n",
    "print(len(trainS_women))"
   ]
  },
  {
   "cell_type": "code",
   "execution_count": 20,
   "metadata": {},
   "outputs": [
    {
     "data": {
      "text/plain": [
       "{nan, 'Teacher', 'Ms.', 'Dr.', 'Mr.', 'Mrs.'}"
      ]
     },
     "execution_count": 20,
     "metadata": {},
     "output_type": "execute_result"
    }
   ],
   "source": [
    "teachers_prefixs = set(trainS[\"teacher_prefix\"])\n",
    "teachers_prefixs"
   ]
  },
  {
   "cell_type": "code",
   "execution_count": 21,
   "metadata": {
    "collapsed": true
   },
   "outputs": [],
   "source": [
    "distrib = []\n",
    "distrib_approved = []\n",
    "for teacher_prefix in teachers_prefixs :\n",
    "    distrib.append(len(trainS[trainS[\"teacher_prefix\"]==teacher_prefix]))\n",
    "    distrib_approved.append(len(trainS_approved[trainS_approved[\"teacher_prefix\"]==teacher_prefix]))"
   ]
  },
  {
   "cell_type": "code",
   "execution_count": 22,
   "metadata": {},
   "outputs": [
    {
     "data": {
      "text/plain": [
       "[0, 411, 6468, 1, 1773, 9553]"
      ]
     },
     "execution_count": 22,
     "metadata": {},
     "output_type": "execute_result"
    }
   ],
   "source": [
    "distrib"
   ]
  },
  {
   "cell_type": "code",
   "execution_count": 23,
   "metadata": {},
   "outputs": [
    {
     "data": {
      "text/plain": [
       "[0, 332, 5460, 1, 1507, 8086]"
      ]
     },
     "execution_count": 23,
     "metadata": {},
     "output_type": "execute_result"
    }
   ],
   "source": [
    "distrib_approved"
   ]
  },
  {
   "cell_type": "code",
   "execution_count": 25,
   "metadata": {},
   "outputs": [
    {
     "name": "stdout",
     "output_type": "stream",
     "text": [
      "[0, 411, 6468, 1, 1773, 9553]\n"
     ]
    },
    {
     "data": {
      "image/png": "[encoded data removed]",
      "text/plain": [
       "<Figure size 576x288 with 2 Axes>"
      ]
     },
     "metadata": {},
     "output_type": "display_data"
    }
   ],
   "source": [
    "labels = teachers_prefixs\n",
    "sizes = distrib\n",
    "print (sizes)\n",
    "\n",
    "\n",
    "fig, axes = plt.subplots(ncols=2, figsize=(8, 4))\n",
    "ax = axes[0]\n",
    "ax.set_title(\"All projects\")\n",
    "ax.pie(sizes, labels=labels, autopct='%1.1f%%',\n",
    "        shadow=True, startangle=90)\n",
    "ax.axis('equal')  # Equal aspect ratio ensures that pie is drawn as a circle.\n",
    "\n",
    "sizes = distrib_approved\n",
    "ax = axes[1]\n",
    "ax.set_title(\"Accepted projects\")\n",
    "\n",
    "ax.pie(sizes, labels=labels, autopct='%1.1f%%',\n",
    "        shadow=True, startangle=90)\n",
    "\n",
    "\n",
    "\n",
    "plt.show()"
   ]
  },
  {
   "cell_type": "markdown",
   "metadata": {},
   "source": [
    "Beaucoup de femmes déposent des projets, les proportions de projets acceptés sont indépendants du genre ou du titre"
   ]
  },
  {
   "cell_type": "code",
   "execution_count": 26,
   "metadata": {
    "collapsed": true
   },
   "outputs": [],
   "source": [
    "# Etre un enieme projet donne-il plus de chance ?\n",
    "trainS_first = trainS[trainS[\"teacher_number_of_previously_posted_projects\"]==0]"
   ]
  },
  {
   "cell_type": "code",
   "execution_count": 27,
   "metadata": {
    "collapsed": true
   },
   "outputs": [],
   "source": [
    "# Rapport accepted / total\n",
    "trainS_first_approved = trainS_first[trainS_first[\"project_is_approved\"]==1]"
   ]
  },
  {
   "cell_type": "code",
   "execution_count": 28,
   "metadata": {},
   "outputs": [
    {
     "data": {
      "text/plain": [
       "0.8159068865179437"
      ]
     },
     "execution_count": 28,
     "metadata": {},
     "output_type": "execute_result"
    }
   ],
   "source": [
    "len(trainS_first_approved)/len(trainS_first)"
   ]
  },
  {
   "cell_type": "code",
   "execution_count": 29,
   "metadata": {
    "collapsed": true
   },
   "outputs": [],
   "source": [
    "nbPreviousProjects = list(set(trainS[\"teacher_number_of_previously_posted_projects\"]))"
   ]
  },
  {
   "cell_type": "code",
   "execution_count": 32,
   "metadata": {},
   "outputs": [],
   "source": [
    "chance = []\n",
    "for i in range(len(nbPreviousProjects)):\n",
    "    df = trainS[trainS[\"teacher_number_of_previously_posted_projects\"]==i]\n",
    "    df_approved = df[df[\"project_is_approved\"]==1]\n",
    "    if (len(df)>0):\n",
    "        chance.append((i,len(df_approved)/len(df)))\n",
    "        #print (\"If there are {0} previously posted projects, the project has {1} chance to be accepted.\"\n",
    "       #.format(i,len(df_approved)/len(df)))"
   ]
  },
  {
   "cell_type": "code",
   "execution_count": 31,
   "metadata": {},
   "outputs": [
    {
     "data": {
      "text/plain": [
       "[(0, 0.8159068865179437),\n",
       " (1, 0.8272659732540861),\n",
       " (2, 0.8530106257378984),\n",
       " (3, 0.8362369337979094),\n",
       " (4, 0.8443670150987224),\n",
       " (5, 0.8471428571428572),\n",
       " (6, 0.8589285714285714),\n",
       " (7, 0.8380281690140845),\n",
       " (8, 0.8552631578947368),\n",
       " (9, 0.9087947882736156),\n",
       " (10, 0.8345864661654135),\n",
       " (11, 0.8652173913043478),\n",
       " (12, 0.8571428571428571),\n",
       " (13, 0.8762376237623762),\n",
       " (14, 0.8627450980392157),\n",
       " (15, 0.9027777777777778),\n",
       " (16, 0.8591549295774648),\n",
       " (17, 0.86),\n",
       " (18, 0.90625),\n",
       " (19, 0.8688524590163934),\n",
       " (20, 0.8899082568807339),\n",
       " (21, 0.8878504672897196),\n",
       " (22, 0.875),\n",
       " (23, 0.935064935064935),\n",
       " (24, 0.8780487804878049),\n",
       " (25, 0.8873239436619719),\n",
       " (26, 0.8840579710144928),\n",
       " (27, 0.8367346938775511),\n",
       " (28, 0.8305084745762712),\n",
       " (29, 0.8450704225352113),\n",
       " (30, 0.8181818181818182),\n",
       " (31, 0.8181818181818182),\n",
       " (32, 0.9038461538461539),\n",
       " (33, 0.8571428571428571),\n",
       " (34, 0.926829268292683),\n",
       " (35, 0.9743589743589743),\n",
       " (36, 0.9032258064516129),\n",
       " (37, 0.7741935483870968),\n",
       " (38, 0.85),\n",
       " (39, 0.967741935483871),\n",
       " (40, 0.782608695652174),\n",
       " (41, 0.9166666666666666),\n",
       " (42, 0.9629629629629629),\n",
       " (43, 0.7241379310344828),\n",
       " (44, 0.8148148148148148),\n",
       " (45, 0.9629629629629629),\n",
       " (46, 0.8636363636363636),\n",
       " (47, 0.8888888888888888),\n",
       " (48, 0.9230769230769231),\n",
       " (49, 0.9615384615384616),\n",
       " (50, 0.9523809523809523),\n",
       " (51, 0.9583333333333334),\n",
       " (52, 0.8666666666666667),\n",
       " (53, 0.9411764705882353),\n",
       " (54, 1.0),\n",
       " (55, 0.8333333333333334),\n",
       " (56, 0.8823529411764706),\n",
       " (57, 0.8571428571428571),\n",
       " (58, 0.9090909090909091),\n",
       " (59, 0.96),\n",
       " (60, 0.9047619047619048),\n",
       " (61, 0.8888888888888888),\n",
       " (62, 0.9090909090909091),\n",
       " (63, 1.0),\n",
       " (64, 0.9333333333333333),\n",
       " (65, 0.9130434782608695),\n",
       " (66, 0.875),\n",
       " (67, 0.8666666666666667),\n",
       " (68, 0.9444444444444444),\n",
       " (69, 0.8),\n",
       " (70, 1.0),\n",
       " (71, 0.9285714285714286),\n",
       " (72, 1.0),\n",
       " (73, 1.0),\n",
       " (74, 1.0),\n",
       " (75, 1.0),\n",
       " (76, 0.9333333333333333),\n",
       " (77, 0.7777777777777778),\n",
       " (78, 0.875),\n",
       " (79, 1.0),\n",
       " (80, 0.9),\n",
       " (81, 1.0),\n",
       " (82, 0.6666666666666666),\n",
       " (83, 0.75),\n",
       " (84, 0.9285714285714286),\n",
       " (85, 0.9),\n",
       " (86, 0.8461538461538461),\n",
       " (87, 1.0),\n",
       " (88, 0.8571428571428571),\n",
       " (89, 0.9230769230769231),\n",
       " (90, 1.0),\n",
       " (91, 1.0),\n",
       " (92, 0.0),\n",
       " (93, 1.0),\n",
       " (94, 1.0),\n",
       " (95, 0.8571428571428571),\n",
       " (96, 1.0),\n",
       " (97, 0.7777777777777778),\n",
       " (98, 1.0),\n",
       " (99, 1.0),\n",
       " (100, 1.0),\n",
       " (101, 1.0),\n",
       " (102, 1.0),\n",
       " (103, 1.0),\n",
       " (104, 0.8333333333333334),\n",
       " (105, 0.6666666666666666),\n",
       " (106, 1.0),\n",
       " (107, 1.0),\n",
       " (108, 1.0),\n",
       " (109, 1.0),\n",
       " (110, 0.8333333333333334),\n",
       " (111, 0.7142857142857143),\n",
       " (112, 1.0),\n",
       " (113, 0.8),\n",
       " (114, 0.6666666666666666),\n",
       " (115, 0.8),\n",
       " (116, 1.0),\n",
       " (117, 1.0),\n",
       " (118, 1.0),\n",
       " (119, 1.0),\n",
       " (120, 0.8333333333333334),\n",
       " (121, 1.0),\n",
       " (122, 0.5),\n",
       " (123, 1.0),\n",
       " (124, 1.0),\n",
       " (125, 1.0),\n",
       " (126, 1.0),\n",
       " (127, 1.0),\n",
       " (128, 0.8333333333333334),\n",
       " (129, 1.0),\n",
       " (130, 0.875),\n",
       " (131, 0.8333333333333334),\n",
       " (132, 0.75),\n",
       " (133, 1.0),\n",
       " (134, 0.8333333333333334),\n",
       " (135, 1.0),\n",
       " (136, 1.0),\n",
       " (137, 1.0),\n",
       " (138, 1.0),\n",
       " (139, 1.0),\n",
       " (140, 0.75),\n",
       " (141, 1.0),\n",
       " (142, 1.0),\n",
       " (143, 0.8),\n",
       " (144, 1.0),\n",
       " (145, 1.0),\n",
       " (146, 1.0),\n",
       " (148, 1.0),\n",
       " (149, 1.0),\n",
       " (150, 1.0),\n",
       " (151, 1.0),\n",
       " (154, 1.0),\n",
       " (155, 1.0),\n",
       " (156, 1.0),\n",
       " (157, 1.0),\n",
       " (159, 1.0),\n",
       " (160, 1.0),\n",
       " (162, 1.0),\n",
       " (163, 1.0),\n",
       " (164, 1.0),\n",
       " (165, 1.0),\n",
       " (166, 1.0),\n",
       " (167, 1.0),\n",
       " (168, 1.0),\n",
       " (169, 1.0),\n",
       " (171, 1.0),\n",
       " (172, 1.0),\n",
       " (173, 1.0),\n",
       " (175, 1.0),\n",
       " (176, 1.0),\n",
       " (177, 1.0),\n",
       " (179, 1.0),\n",
       " (181, 1.0),\n",
       " (182, 1.0),\n",
       " (183, 0.0),\n",
       " (184, 1.0),\n",
       " (185, 1.0),\n",
       " (186, 1.0),\n",
       " (188, 1.0),\n",
       " (189, 1.0),\n",
       " (190, 1.0),\n",
       " (191, 1.0),\n",
       " (192, 0.6666666666666666),\n",
       " (193, 1.0),\n",
       " (195, 1.0),\n",
       " (196, 1.0),\n",
       " (198, 1.0),\n",
       " (200, 1.0),\n",
       " (203, 1.0),\n",
       " (206, 1.0),\n",
       " (210, 1.0),\n",
       " (211, 1.0),\n",
       " (213, 1.0),\n",
       " (220, 1.0),\n",
       " (223, 1.0),\n",
       " (224, 1.0),\n",
       " (226, 1.0),\n",
       " (228, 1.0),\n",
       " (229, 1.0),\n",
       " (232, 1.0),\n",
       " (234, 1.0),\n",
       " (241, 1.0)]"
      ]
     },
     "execution_count": 31,
     "metadata": {},
     "output_type": "execute_result"
    }
   ],
   "source": [
    "chance"
   ]
  },
  {
   "cell_type": "code",
   "execution_count": 37,
   "metadata": {},
   "outputs": [
    {
     "data": {
      "image/png": "[encoded data removed]",
      "text/plain": [
       "<Figure size 432x288 with 1 Axes>"
      ]
     },
     "metadata": {},
     "output_type": "display_data"
    }
   ],
   "source": [
    "x = [x[0] for x in chance]\n",
    "y = [x[1] for x in chance]\n",
    "\n",
    "fig, ax = plt.subplots()\n",
    "ax.set_xlabel('nb of previous posted projects')\n",
    "ax.set_ylabel('chance to be accepted')\n",
    "plt.scatter(x, y, alpha=0.5)\n",
    "\n",
    "plt.show()"
   ]
  },
  {
   "cell_type": "code",
   "execution_count": null,
   "metadata": {
    "collapsed": true
   },
   "outputs": [],
   "source": [
    "# Certains profs réalisent beaucoup de projets qui sont tous acceptés.\n",
    "# Il doit y avoir des schémas à respecter qu'ils connaissent bien et\n",
    "# les rendent efficaces"
   ]
  },
  {
   "cell_type": "code",
   "execution_count": 56,
   "metadata": {
    "scrolled": false
   },
   "outputs": [
    {
     "data": {
      "text/plain": [
       "['2016-10', '2016-06', '2017-01', '2017-02']"
      ]
     },
     "execution_count": 56,
     "metadata": {},
     "output_type": "execute_result"
    }
   ],
   "source": [
    "# Y a t-il plus ou moins de projets acceptés de nos jours ?\n",
    "month = [trainS[\"project_submitted_datetime\"]\n",
    "         .tolist()[i][:7] for i in range(len(trainS))]\n",
    "month[:4]\n",
    "\n"
   ]
  },
  {
   "cell_type": "code",
   "execution_count": 57,
   "metadata": {},
   "outputs": [],
   "source": [
    "trainS[\"month_project_submitted_datetime\"]=np.array(month)"
   ]
  },
  {
   "cell_type": "code",
   "execution_count": 58,
   "metadata": {},
   "outputs": [
    {
     "data": {
      "text/html": [
       "<div>\n",
       "<style>\n",
       "    .dataframe thead tr:only-child th {\n",
       "        text-align: right;\n",
       "    }\n",
       "\n",
       "    .dataframe thead th {\n",
       "        text-align: left;\n",
       "    }\n",
       "\n",
       "    .dataframe tbody tr th {\n",
       "        vertical-align: top;\n",
       "    }\n",
       "</style>\n",
       "<table border=\"1\" class=\"dataframe\">\n",
       "  <thead>\n",
       "    <tr style=\"text-align: right;\">\n",
       "      <th></th>\n",
       "      <th>id</th>\n",
       "      <th>teacher_id</th>\n",
       "      <th>teacher_prefix</th>\n",
       "      <th>school_state</th>\n",
       "      <th>project_submitted_datetime</th>\n",
       "      <th>project_grade_category</th>\n",
       "      <th>project_subject_categories</th>\n",
       "      <th>project_subject_subcategories</th>\n",
       "      <th>project_title</th>\n",
       "      <th>project_essay_1</th>\n",
       "      <th>project_essay_2</th>\n",
       "      <th>project_essay_3</th>\n",
       "      <th>project_essay_4</th>\n",
       "      <th>project_resource_summary</th>\n",
       "      <th>teacher_number_of_previously_posted_projects</th>\n",
       "      <th>project_is_approved</th>\n",
       "      <th>month_project_submitted_datetime</th>\n",
       "    </tr>\n",
       "  </thead>\n",
       "  <tbody>\n",
       "    <tr>\n",
       "      <th>131385</th>\n",
       "      <td>p128681</td>\n",
       "      <td>f0f01edd19d45ee3743426309ff3f0c5</td>\n",
       "      <td>Mrs.</td>\n",
       "      <td>FL</td>\n",
       "      <td>2016-10-07 15:22:48</td>\n",
       "      <td>Grades PreK-2</td>\n",
       "      <td>Literacy &amp; Language</td>\n",
       "      <td>ESL, Literacy</td>\n",
       "      <td>Laptops to Engage Wonder and Learning</td>\n",
       "      <td>I was recently moved from Kindergarten, to sec...</td>\n",
       "      <td>Technology is here to stay. Children nowadays ...</td>\n",
       "      <td>NaN</td>\n",
       "      <td>NaN</td>\n",
       "      <td>My students need 4 laptops and a speaker in or...</td>\n",
       "      <td>3</td>\n",
       "      <td>1</td>\n",
       "      <td>2016-10</td>\n",
       "    </tr>\n",
       "    <tr>\n",
       "      <th>175778</th>\n",
       "      <td>p229097</td>\n",
       "      <td>20a682562314b02176f816d89b141f17</td>\n",
       "      <td>Mrs.</td>\n",
       "      <td>NC</td>\n",
       "      <td>2016-06-19 10:05:43</td>\n",
       "      <td>Grades 3-5</td>\n",
       "      <td>Literacy &amp; Language</td>\n",
       "      <td>Literature &amp; Writing</td>\n",
       "      <td>Our Class Is Outta Sight, Our Future Is Lookin...</td>\n",
       "      <td>I am so fortunate to teach in a wonderful magn...</td>\n",
       "      <td>I am requesting 3 different types of chairs to...</td>\n",
       "      <td>NaN</td>\n",
       "      <td>NaN</td>\n",
       "      <td>My students need 2 rocker chairs, 2 saucer cha...</td>\n",
       "      <td>22</td>\n",
       "      <td>1</td>\n",
       "      <td>2016-06</td>\n",
       "    </tr>\n",
       "    <tr>\n",
       "      <th>25328</th>\n",
       "      <td>p184758</td>\n",
       "      <td>03910418e66c1dda0ab63e53ac35697d</td>\n",
       "      <td>Mrs.</td>\n",
       "      <td>CA</td>\n",
       "      <td>2017-01-26 11:19:40</td>\n",
       "      <td>Grades 3-5</td>\n",
       "      <td>Music &amp; The Arts</td>\n",
       "      <td>Music</td>\n",
       "      <td>Large Instruments for Music Class!</td>\n",
       "      <td>My students are a diverse group of individuals...</td>\n",
       "      <td>My students are in need of high quality, safe,...</td>\n",
       "      <td>NaN</td>\n",
       "      <td>NaN</td>\n",
       "      <td>My students need instruments to fill our class...</td>\n",
       "      <td>2</td>\n",
       "      <td>1</td>\n",
       "      <td>2017-01</td>\n",
       "    </tr>\n",
       "    <tr>\n",
       "      <th>33359</th>\n",
       "      <td>p119821</td>\n",
       "      <td>7a899d9167640f4b7f8b48bf0994ac66</td>\n",
       "      <td>Mr.</td>\n",
       "      <td>CT</td>\n",
       "      <td>2017-02-13 17:14:42</td>\n",
       "      <td>Grades 6-8</td>\n",
       "      <td>Math &amp; Science</td>\n",
       "      <td>Environmental Science, Mathematics</td>\n",
       "      <td>Grab A Class Tablet! No One Gets Left Out!</td>\n",
       "      <td>My students come in to school each day with an...</td>\n",
       "      <td>The use of personal devices in my classroom is...</td>\n",
       "      <td>NaN</td>\n",
       "      <td>NaN</td>\n",
       "      <td>My students need cost-effective tablets that a...</td>\n",
       "      <td>2</td>\n",
       "      <td>1</td>\n",
       "      <td>2017-02</td>\n",
       "    </tr>\n",
       "    <tr>\n",
       "      <th>18626</th>\n",
       "      <td>p095071</td>\n",
       "      <td>29e355b227cfdfa8ce60ad084fb1c88e</td>\n",
       "      <td>Mr.</td>\n",
       "      <td>TX</td>\n",
       "      <td>2016-09-27 14:08:16</td>\n",
       "      <td>Grades 3-5</td>\n",
       "      <td>Health &amp; Sports</td>\n",
       "      <td>Gym &amp; Fitness, Team Sports</td>\n",
       "      <td>Bump!  Set!  Spike!</td>\n",
       "      <td>I teach 600 kids physical education daily. In ...</td>\n",
       "      <td>My students watched the Olympics and were fasc...</td>\n",
       "      <td>NaN</td>\n",
       "      <td>NaN</td>\n",
       "      <td>My students need soft volleyballs to be able t...</td>\n",
       "      <td>5</td>\n",
       "      <td>1</td>\n",
       "      <td>2016-09</td>\n",
       "    </tr>\n",
       "  </tbody>\n",
       "</table>\n",
       "</div>"
      ],
      "text/plain": [
       "             id                        teacher_id teacher_prefix school_state  \\\n",
       "131385  p128681  f0f01edd19d45ee3743426309ff3f0c5           Mrs.           FL   \n",
       "175778  p229097  20a682562314b02176f816d89b141f17           Mrs.           NC   \n",
       "25328   p184758  03910418e66c1dda0ab63e53ac35697d           Mrs.           CA   \n",
       "33359   p119821  7a899d9167640f4b7f8b48bf0994ac66            Mr.           CT   \n",
       "18626   p095071  29e355b227cfdfa8ce60ad084fb1c88e            Mr.           TX   \n",
       "\n",
       "       project_submitted_datetime project_grade_category  \\\n",
       "131385        2016-10-07 15:22:48          Grades PreK-2   \n",
       "175778        2016-06-19 10:05:43             Grades 3-5   \n",
       "25328         2017-01-26 11:19:40             Grades 3-5   \n",
       "33359         2017-02-13 17:14:42             Grades 6-8   \n",
       "18626         2016-09-27 14:08:16             Grades 3-5   \n",
       "\n",
       "       project_subject_categories       project_subject_subcategories  \\\n",
       "131385        Literacy & Language                       ESL, Literacy   \n",
       "175778        Literacy & Language                Literature & Writing   \n",
       "25328            Music & The Arts                               Music   \n",
       "33359              Math & Science  Environmental Science, Mathematics   \n",
       "18626             Health & Sports          Gym & Fitness, Team Sports   \n",
       "\n",
       "                                            project_title  \\\n",
       "131385              Laptops to Engage Wonder and Learning   \n",
       "175778  Our Class Is Outta Sight, Our Future Is Lookin...   \n",
       "25328                  Large Instruments for Music Class!   \n",
       "33359          Grab A Class Tablet! No One Gets Left Out!   \n",
       "18626                                 Bump!  Set!  Spike!   \n",
       "\n",
       "                                          project_essay_1  \\\n",
       "131385  I was recently moved from Kindergarten, to sec...   \n",
       "175778  I am so fortunate to teach in a wonderful magn...   \n",
       "25328   My students are a diverse group of individuals...   \n",
       "33359   My students come in to school each day with an...   \n",
       "18626   I teach 600 kids physical education daily. In ...   \n",
       "\n",
       "                                          project_essay_2 project_essay_3  \\\n",
       "131385  Technology is here to stay. Children nowadays ...             NaN   \n",
       "175778  I am requesting 3 different types of chairs to...             NaN   \n",
       "25328   My students are in need of high quality, safe,...             NaN   \n",
       "33359   The use of personal devices in my classroom is...             NaN   \n",
       "18626   My students watched the Olympics and were fasc...             NaN   \n",
       "\n",
       "       project_essay_4                           project_resource_summary  \\\n",
       "131385             NaN  My students need 4 laptops and a speaker in or...   \n",
       "175778             NaN  My students need 2 rocker chairs, 2 saucer cha...   \n",
       "25328              NaN  My students need instruments to fill our class...   \n",
       "33359              NaN  My students need cost-effective tablets that a...   \n",
       "18626              NaN  My students need soft volleyballs to be able t...   \n",
       "\n",
       "        teacher_number_of_previously_posted_projects  project_is_approved  \\\n",
       "131385                                             3                    1   \n",
       "175778                                            22                    1   \n",
       "25328                                              2                    1   \n",
       "33359                                              2                    1   \n",
       "18626                                              5                    1   \n",
       "\n",
       "       month_project_submitted_datetime  \n",
       "131385                          2016-10  \n",
       "175778                          2016-06  \n",
       "25328                           2017-01  \n",
       "33359                           2017-02  \n",
       "18626                           2016-09  "
      ]
     },
     "execution_count": 58,
     "metadata": {},
     "output_type": "execute_result"
    }
   ],
   "source": [
    "trainS.head()"
   ]
  },
  {
   "cell_type": "code",
   "execution_count": 66,
   "metadata": {},
   "outputs": [],
   "source": [
    "meanProjectsApproved = trainS.groupby([\"month_project_submitted_datetime\"], as_index=False).mean()"
   ]
  },
  {
   "cell_type": "code",
   "execution_count": 67,
   "metadata": {},
   "outputs": [
    {
     "data": {
      "text/html": [
       "<div>\n",
       "<style>\n",
       "    .dataframe thead tr:only-child th {\n",
       "        text-align: right;\n",
       "    }\n",
       "\n",
       "    .dataframe thead th {\n",
       "        text-align: left;\n",
       "    }\n",
       "\n",
       "    .dataframe tbody tr th {\n",
       "        vertical-align: top;\n",
       "    }\n",
       "</style>\n",
       "<table border=\"1\" class=\"dataframe\">\n",
       "  <thead>\n",
       "    <tr style=\"text-align: right;\">\n",
       "      <th></th>\n",
       "      <th>month_project_submitted_datetime</th>\n",
       "      <th>teacher_number_of_previously_posted_projects</th>\n",
       "      <th>project_is_approved</th>\n",
       "    </tr>\n",
       "  </thead>\n",
       "  <tbody>\n",
       "    <tr>\n",
       "      <th>0</th>\n",
       "      <td>2016-04</td>\n",
       "      <td>8.805556</td>\n",
       "      <td>0.854167</td>\n",
       "    </tr>\n",
       "    <tr>\n",
       "      <th>1</th>\n",
       "      <td>2016-05</td>\n",
       "      <td>9.550259</td>\n",
       "      <td>0.867358</td>\n",
       "    </tr>\n",
       "    <tr>\n",
       "      <th>2</th>\n",
       "      <td>2016-06</td>\n",
       "      <td>8.558011</td>\n",
       "      <td>0.856354</td>\n",
       "    </tr>\n",
       "    <tr>\n",
       "      <th>3</th>\n",
       "      <td>2016-07</td>\n",
       "      <td>7.836638</td>\n",
       "      <td>0.821570</td>\n",
       "    </tr>\n",
       "    <tr>\n",
       "      <th>4</th>\n",
       "      <td>2016-08</td>\n",
       "      <td>10.983087</td>\n",
       "      <td>0.843250</td>\n",
       "    </tr>\n",
       "  </tbody>\n",
       "</table>\n",
       "</div>"
      ],
      "text/plain": [
       "  month_project_submitted_datetime  \\\n",
       "0                          2016-04   \n",
       "1                          2016-05   \n",
       "2                          2016-06   \n",
       "3                          2016-07   \n",
       "4                          2016-08   \n",
       "\n",
       "   teacher_number_of_previously_posted_projects  project_is_approved  \n",
       "0                                      8.805556             0.854167  \n",
       "1                                      9.550259             0.867358  \n",
       "2                                      8.558011             0.856354  \n",
       "3                                      7.836638             0.821570  \n",
       "4                                     10.983087             0.843250  "
      ]
     },
     "execution_count": 67,
     "metadata": {},
     "output_type": "execute_result"
    }
   ],
   "source": [
    "meanProjectsApproved.head()"
   ]
  },
  {
   "cell_type": "code",
   "execution_count": null,
   "metadata": {
    "collapsed": true
   },
   "outputs": [],
   "source": []
  },
  {
   "cell_type": "code",
   "execution_count": 77,
   "metadata": {},
   "outputs": [
    {
     "data": {
      "image/png": "[encoded data removed]",
      "text/plain": [
       "<Figure size 864x288 with 1 Axes>"
      ]
     },
     "metadata": {},
     "output_type": "display_data"
    }
   ],
   "source": [
    "xlabels = meanProjectsApproved[\"month_project_submitted_datetime\"].tolist()\n",
    "x = xlabels\n",
    "y = meanProjectsApproved[\"project_is_approved\"].tolist()\n",
    "\n",
    "fig, ax = plt.subplots(figsize=(12, 4))\n",
    "ax.set_xlabel('nb of previous posted projects')\n",
    "ax.set_ylabel('chance to be accepted')\n",
    "plt.plot(x, y);\n",
    "\n",
    "plt.show()"
   ]
  },
  {
   "cell_type": "markdown",
   "metadata": {},
   "source": [
    "Pas de claire tendance en fonction du temps"
   ]
  },
  {
   "cell_type": "code",
   "execution_count": 80,
   "metadata": {},
   "outputs": [
    {
     "data": {
      "text/plain": [
       "51"
      ]
     },
     "execution_count": 80,
     "metadata": {},
     "output_type": "execute_result"
    }
   ],
   "source": [
    "states = set(trainS[\"school_state\"])\n",
    "len(states)\n",
    "\n",
    "# les Etats américains"
   ]
  },
  {
   "cell_type": "code",
   "execution_count": 88,
   "metadata": {},
   "outputs": [],
   "source": [
    "# Des Etats mieux lottis ?\n",
    "chance = []\n",
    "for i in range(len(states)):\n",
    "    df = trainS[trainS[\"school_state\"]==list(states)[i]]\n",
    "    df_approved = df[df[\"project_is_approved\"]==1]\n",
    "    if (len(df)>0):\n",
    "        chance.append((list(states)[i],len(df_approved)/len(df), len(df_approved)))"
   ]
  },
  {
   "cell_type": "code",
   "execution_count": 89,
   "metadata": {},
   "outputs": [
    {
     "data": {
      "text/plain": [
       "[('KY', 0.8685446009389671, 185),\n",
       " ('WY', 0.95, 19),\n",
       " ('CO', 0.8640776699029126, 178),\n",
       " ('AL', 0.8410596026490066, 254),\n",
       " ('KS', 0.8691588785046729, 93),\n",
       " ('NV', 0.8724279835390947, 212),\n",
       " ('MD', 0.8333333333333334, 200),\n",
       " ('MA', 0.8594847775175644, 367),\n",
       " ('OK', 0.8311688311688312, 320),\n",
       " ('SC', 0.8700906344410876, 576),\n",
       " ('AZ', 0.8512396694214877, 309),\n",
       " ('ND', 1.0, 22),\n",
       " ('MN', 0.8246445497630331, 174),\n",
       " ('MI', 0.8484288354898336, 459),\n",
       " ('FL', 0.8125594671741199, 854),\n",
       " ('IL', 0.8263795423956931, 614),\n",
       " ('CA', 0.8610891870560379, 2182),\n",
       " ('IA', 0.8541666666666666, 82),\n",
       " ('RI', 0.8863636363636364, 39),\n",
       " ('DE', 0.8620689655172413, 50),\n",
       " ('ME', 0.8877551020408163, 87),\n",
       " ('NY', 0.8372093023255814, 1008),\n",
       " ('UT', 0.8181818181818182, 234),\n",
       " ('SD', 0.8775510204081632, 43),\n",
       " ('MT', 0.9512195121951219, 39),\n",
       " ('AR', 0.8630952380952381, 145),\n",
       " ('PA', 0.8450184501845018, 458),\n",
       " ('GA', 0.8523076923076923, 554),\n",
       " ('LA', 0.8091397849462365, 301),\n",
       " ('NM', 0.8695652173913043, 80),\n",
       " ('WI', 0.8327868852459016, 254),\n",
       " ('WV', 0.9102564102564102, 71),\n",
       " ('AK', 0.8867924528301887, 47),\n",
       " ('IN', 0.8644859813084113, 370),\n",
       " ('NE', 0.8372093023255814, 36),\n",
       " ('CT', 0.8169014084507042, 232),\n",
       " ('TN', 0.8481848184818482, 257),\n",
       " ('WA', 0.8530927835051546, 331),\n",
       " ('MS', 0.834061135371179, 191),\n",
       " ('MO', 0.8513853904282116, 338),\n",
       " ('VA', 0.8459119496855346, 269),\n",
       " ('DC', 0.7439024390243902, 61),\n",
       " ('NC', 0.8439716312056738, 714),\n",
       " ('VT', 0.7333333333333333, 11),\n",
       " ('TX', 0.8172920065252854, 1002),\n",
       " ('NH', 0.864406779661017, 51),\n",
       " ('OR', 0.8727272727272727, 192),\n",
       " ('HI', 0.8452380952380952, 71),\n",
       " ('OH', 0.8638613861386139, 349),\n",
       " ('NJ', 0.8477011494252874, 295),\n",
       " ('ID', 0.84375, 108)]"
      ]
     },
     "execution_count": 89,
     "metadata": {},
     "output_type": "execute_result"
    }
   ],
   "source": [
    "chance"
   ]
  },
  {
   "cell_type": "code",
   "execution_count": 91,
   "metadata": {},
   "outputs": [],
   "source": [
    "x = [x[0] for x in chance]\n",
    "rate = [x[1] for x in chance]\n",
    "nbProjects = [x[2] for x in chance]"
   ]
  },
  {
   "cell_type": "code",
   "execution_count": 93,
   "metadata": {},
   "outputs": [
    {
     "data": {
      "text/plain": [
       "(['KY', 'WY', 'CO'],\n",
       " [0.8685446009389671, 0.95, 0.8640776699029126],\n",
       " [185, 19, 178])"
      ]
     },
     "execution_count": 93,
     "metadata": {},
     "output_type": "execute_result"
    }
   ],
   "source": [
    "x[:3], rate[:3], nbProjects[:3]"
   ]
  },
  {
   "cell_type": "code",
   "execution_count": 107,
   "metadata": {},
   "outputs": [],
   "source": [
    "max(nbProjects)\n",
    "nbProjects = [i/max(nbProjects) for i in nbProjects]"
   ]
  },
  {
   "cell_type": "code",
   "execution_count": 108,
   "metadata": {},
   "outputs": [
    {
     "data": {
      "image/png": "[encoded data removed]",
      "text/plain": [
       "<Figure size 1080x288 with 1 Axes>"
      ]
     },
     "metadata": {},
     "output_type": "display_data"
    }
   ],
   "source": [
    "fig, ax = plt.subplots(figsize=(15, 4))\n",
    "plt.plot(x, rate, label='accepted rate')\n",
    "plt.plot(x, nbProjects, label='nb Projects')\n",
    "plt.legend(loc='best')\n",
    "plt.show()\n",
    "\n"
   ]
  },
  {
   "cell_type": "code",
   "execution_count": null,
   "metadata": {
    "collapsed": true
   },
   "outputs": [],
   "source": [
    "# Pas de lien très clair entre nb de projets par Etat et taux de reussite "
   ]
  },
  {
   "cell_type": "code",
   "execution_count": 109,
   "metadata": {},
   "outputs": [
    {
     "data": {
      "text/plain": [
       "Index(['id', 'teacher_id', 'teacher_prefix', 'school_state',\n",
       "       'project_submitted_datetime', 'project_grade_category',\n",
       "       'project_subject_categories', 'project_subject_subcategories',\n",
       "       'project_title', 'project_essay_1', 'project_essay_2',\n",
       "       'project_essay_3', 'project_essay_4', 'project_resource_summary',\n",
       "       'teacher_number_of_previously_posted_projects', 'project_is_approved',\n",
       "       'month_project_submitted_datetime'],\n",
       "      dtype='object')"
      ]
     },
     "execution_count": 109,
     "metadata": {},
     "output_type": "execute_result"
    }
   ],
   "source": [
    "# lien entre la categorie du projet et le taux de reussite ?\n",
    "trainS.columns"
   ]
  },
  {
   "cell_type": "code",
   "execution_count": 113,
   "metadata": {},
   "outputs": [],
   "source": [
    "trainS_catego = trainS[['project_grade_category',\n",
    "       'project_subject_categories', 'project_subject_subcategories','project_is_approved']]"
   ]
  },
  {
   "cell_type": "code",
   "execution_count": 114,
   "metadata": {},
   "outputs": [
    {
     "data": {
      "text/html": [
       "<div>\n",
       "<style>\n",
       "    .dataframe thead tr:only-child th {\n",
       "        text-align: right;\n",
       "    }\n",
       "\n",
       "    .dataframe thead th {\n",
       "        text-align: left;\n",
       "    }\n",
       "\n",
       "    .dataframe tbody tr th {\n",
       "        vertical-align: top;\n",
       "    }\n",
       "</style>\n",
       "<table border=\"1\" class=\"dataframe\">\n",
       "  <thead>\n",
       "    <tr style=\"text-align: right;\">\n",
       "      <th></th>\n",
       "      <th>project_grade_category</th>\n",
       "      <th>project_subject_categories</th>\n",
       "      <th>project_subject_subcategories</th>\n",
       "      <th>project_is_approved</th>\n",
       "    </tr>\n",
       "  </thead>\n",
       "  <tbody>\n",
       "    <tr>\n",
       "      <th>131385</th>\n",
       "      <td>Grades PreK-2</td>\n",
       "      <td>Literacy &amp; Language</td>\n",
       "      <td>ESL, Literacy</td>\n",
       "      <td>1</td>\n",
       "    </tr>\n",
       "    <tr>\n",
       "      <th>175778</th>\n",
       "      <td>Grades 3-5</td>\n",
       "      <td>Literacy &amp; Language</td>\n",
       "      <td>Literature &amp; Writing</td>\n",
       "      <td>1</td>\n",
       "    </tr>\n",
       "    <tr>\n",
       "      <th>25328</th>\n",
       "      <td>Grades 3-5</td>\n",
       "      <td>Music &amp; The Arts</td>\n",
       "      <td>Music</td>\n",
       "      <td>1</td>\n",
       "    </tr>\n",
       "    <tr>\n",
       "      <th>33359</th>\n",
       "      <td>Grades 6-8</td>\n",
       "      <td>Math &amp; Science</td>\n",
       "      <td>Environmental Science, Mathematics</td>\n",
       "      <td>1</td>\n",
       "    </tr>\n",
       "    <tr>\n",
       "      <th>18626</th>\n",
       "      <td>Grades 3-5</td>\n",
       "      <td>Health &amp; Sports</td>\n",
       "      <td>Gym &amp; Fitness, Team Sports</td>\n",
       "      <td>1</td>\n",
       "    </tr>\n",
       "  </tbody>\n",
       "</table>\n",
       "</div>"
      ],
      "text/plain": [
       "       project_grade_category project_subject_categories  \\\n",
       "131385          Grades PreK-2        Literacy & Language   \n",
       "175778             Grades 3-5        Literacy & Language   \n",
       "25328              Grades 3-5           Music & The Arts   \n",
       "33359              Grades 6-8             Math & Science   \n",
       "18626              Grades 3-5            Health & Sports   \n",
       "\n",
       "             project_subject_subcategories  project_is_approved  \n",
       "131385                       ESL, Literacy                    1  \n",
       "175778                Literature & Writing                    1  \n",
       "25328                                Music                    1  \n",
       "33359   Environmental Science, Mathematics                    1  \n",
       "18626           Gym & Fitness, Team Sports                    1  "
      ]
     },
     "execution_count": 114,
     "metadata": {},
     "output_type": "execute_result"
    }
   ],
   "source": [
    "trainS_catego.head()"
   ]
  },
  {
   "cell_type": "code",
   "execution_count": 116,
   "metadata": {},
   "outputs": [],
   "source": [
    "project_grade_category = set(trainS_catego[\"project_grade_category\"].tolist())"
   ]
  },
  {
   "cell_type": "code",
   "execution_count": 117,
   "metadata": {},
   "outputs": [
    {
     "data": {
      "text/plain": [
       "{'Grades 3-5', 'Grades 6-8', 'Grades 9-12', 'Grades PreK-2'}"
      ]
     },
     "execution_count": 117,
     "metadata": {},
     "output_type": "execute_result"
    }
   ],
   "source": [
    "project_grade_category"
   ]
  },
  {
   "cell_type": "code",
   "execution_count": 170,
   "metadata": {},
   "outputs": [],
   "source": [
    "project_subject_categories = set(trainS_catego[\"project_subject_categories\"].tolist())\n",
    "categories = []\n",
    "for catego in project_subject_categories:\n",
    "    categories.append(catego.split(\",\"))\n",
    "categories = list(set([item.strip() for sublist in categories for item in sublist]))"
   ]
  },
  {
   "cell_type": "code",
   "execution_count": 171,
   "metadata": {},
   "outputs": [],
   "source": [
    "project_subject_subcategories = list(set(trainS_catego[\"project_subject_subcategories\"].tolist()))\n",
    "subcategories = []\n",
    "for catego in project_subject_subcategories:\n",
    "    subcategories.append(catego.split(\",\"))\n",
    "subcategories = set([item.strip() for sublist in subcategories for item in sublist])"
   ]
  },
  {
   "cell_type": "code",
   "execution_count": 175,
   "metadata": {},
   "outputs": [
    {
     "data": {
      "text/plain": [
       "['Math & Science',\n",
       " 'Care & Hunger',\n",
       " 'Warmth',\n",
       " 'Music & The Arts',\n",
       " 'Special Needs',\n",
       " 'Health & Sports',\n",
       " 'Applied Learning',\n",
       " 'Literacy & Language',\n",
       " 'History & Civics']"
      ]
     },
     "execution_count": 175,
     "metadata": {},
     "output_type": "execute_result"
    }
   ],
   "source": [
    "categories"
   ]
  },
  {
   "cell_type": "code",
   "execution_count": 186,
   "metadata": {},
   "outputs": [
    {
     "data": {
      "text/plain": [
       "131385    Literacy & Language\n",
       "175778    Literacy & Language\n",
       "25328        Music & The Arts\n",
       "33359          Math & Science\n",
       "18626         Health & Sports\n",
       "Name: project_subject_categories, dtype: object"
      ]
     },
     "execution_count": 186,
     "metadata": {},
     "output_type": "execute_result"
    }
   ],
   "source": [
    "trainS_catego[\"project_subject_categories\"].head()"
   ]
  },
  {
   "cell_type": "code",
   "execution_count": 190,
   "metadata": {},
   "outputs": [],
   "source": [
    "p = np.zeros((len(categories), len(trainS_catego)))\n",
    "for i in range(len(trainS_catego[\"project_subject_categories\"].tolist())):\n",
    "    for j, cat in enumerate(categories) :\n",
    "        if (cat in trainS_catego[\"project_subject_categories\"].tolist()[i]):\n",
    "            p[j][i] = 1"
   ]
  },
  {
   "cell_type": "code",
   "execution_count": 195,
   "metadata": {},
   "outputs": [
    {
     "data": {
      "text/plain": [
       "(9, 18208)"
      ]
     },
     "execution_count": 195,
     "metadata": {},
     "output_type": "execute_result"
    }
   ],
   "source": [
    "p.shape"
   ]
  },
  {
   "cell_type": "code",
   "execution_count": 203,
   "metadata": {},
   "outputs": [
    {
     "data": {
      "text/plain": [
       "(18208, 9)"
      ]
     },
     "execution_count": 203,
     "metadata": {},
     "output_type": "execute_result"
    }
   ],
   "source": [
    "p.transpose().shape"
   ]
  },
  {
   "cell_type": "code",
   "execution_count": 196,
   "metadata": {},
   "outputs": [],
   "source": [
    "q = np.zeros((len(subcategories), len(trainS_catego)))\n",
    "for i in range(len(trainS_catego[\"project_subject_subcategories\"].tolist())):\n",
    "    for j, cat in enumerate(subcategories) :\n",
    "        if (cat in trainS_catego[\"project_subject_subcategories\"].tolist()[i]):\n",
    "            q[j][i] = 1"
   ]
  },
  {
   "cell_type": "code",
   "execution_count": 197,
   "metadata": {},
   "outputs": [
    {
     "data": {
      "text/plain": [
       "(30, 18208)"
      ]
     },
     "execution_count": 197,
     "metadata": {},
     "output_type": "execute_result"
    }
   ],
   "source": [
    "q.shape"
   ]
  },
  {
   "cell_type": "code",
   "execution_count": 207,
   "metadata": {},
   "outputs": [],
   "source": [
    "df1 = pd.DataFrame(data=p.transpose(),index = None, columns=categories)\n",
    "df2 = pd.DataFrame(data=q.transpose(),index = None, columns=subcategories)\n"
   ]
  },
  {
   "cell_type": "code",
   "execution_count": 218,
   "metadata": {},
   "outputs": [],
   "source": [
    "df = pd.concat([df1, df2], axis=1, ignore_index=False) "
   ]
  },
  {
   "cell_type": "code",
   "execution_count": 223,
   "metadata": {},
   "outputs": [],
   "source": [
    "df[\"project_is_approved\"] = trainS_catego[\"project_is_approved\"].tolist()"
   ]
  },
  {
   "cell_type": "code",
   "execution_count": 224,
   "metadata": {},
   "outputs": [
    {
     "data": {
      "text/html": [
       "<div>\n",
       "<style>\n",
       "    .dataframe thead tr:only-child th {\n",
       "        text-align: right;\n",
       "    }\n",
       "\n",
       "    .dataframe thead th {\n",
       "        text-align: left;\n",
       "    }\n",
       "\n",
       "    .dataframe tbody tr th {\n",
       "        vertical-align: top;\n",
       "    }\n",
       "</style>\n",
       "<table border=\"1\" class=\"dataframe\">\n",
       "  <thead>\n",
       "    <tr style=\"text-align: right;\">\n",
       "      <th></th>\n",
       "      <th>Math &amp; Science</th>\n",
       "      <th>Care &amp; Hunger</th>\n",
       "      <th>Warmth</th>\n",
       "      <th>Music &amp; The Arts</th>\n",
       "      <th>Special Needs</th>\n",
       "      <th>Health &amp; Sports</th>\n",
       "      <th>Applied Learning</th>\n",
       "      <th>Literacy &amp; Language</th>\n",
       "      <th>History &amp; Civics</th>\n",
       "      <th>Character Education</th>\n",
       "      <th>...</th>\n",
       "      <th>Special Needs</th>\n",
       "      <th>Other</th>\n",
       "      <th>Visual Arts</th>\n",
       "      <th>Environmental Science</th>\n",
       "      <th>Performing Arts</th>\n",
       "      <th>Nutrition Education</th>\n",
       "      <th>Health &amp; Life Science</th>\n",
       "      <th>Health &amp; Wellness</th>\n",
       "      <th>Music</th>\n",
       "      <th>project_is_approved</th>\n",
       "    </tr>\n",
       "  </thead>\n",
       "  <tbody>\n",
       "    <tr>\n",
       "      <th>0</th>\n",
       "      <td>0.0</td>\n",
       "      <td>0.0</td>\n",
       "      <td>0.0</td>\n",
       "      <td>0.0</td>\n",
       "      <td>0.0</td>\n",
       "      <td>0.0</td>\n",
       "      <td>0.0</td>\n",
       "      <td>1.0</td>\n",
       "      <td>0.0</td>\n",
       "      <td>0.0</td>\n",
       "      <td>...</td>\n",
       "      <td>0.0</td>\n",
       "      <td>0.0</td>\n",
       "      <td>0.0</td>\n",
       "      <td>0.0</td>\n",
       "      <td>0.0</td>\n",
       "      <td>0.0</td>\n",
       "      <td>0.0</td>\n",
       "      <td>0.0</td>\n",
       "      <td>0.0</td>\n",
       "      <td>1</td>\n",
       "    </tr>\n",
       "    <tr>\n",
       "      <th>1</th>\n",
       "      <td>0.0</td>\n",
       "      <td>0.0</td>\n",
       "      <td>0.0</td>\n",
       "      <td>0.0</td>\n",
       "      <td>0.0</td>\n",
       "      <td>0.0</td>\n",
       "      <td>0.0</td>\n",
       "      <td>1.0</td>\n",
       "      <td>0.0</td>\n",
       "      <td>0.0</td>\n",
       "      <td>...</td>\n",
       "      <td>0.0</td>\n",
       "      <td>0.0</td>\n",
       "      <td>0.0</td>\n",
       "      <td>0.0</td>\n",
       "      <td>0.0</td>\n",
       "      <td>0.0</td>\n",
       "      <td>0.0</td>\n",
       "      <td>0.0</td>\n",
       "      <td>0.0</td>\n",
       "      <td>1</td>\n",
       "    </tr>\n",
       "    <tr>\n",
       "      <th>2</th>\n",
       "      <td>0.0</td>\n",
       "      <td>0.0</td>\n",
       "      <td>0.0</td>\n",
       "      <td>1.0</td>\n",
       "      <td>0.0</td>\n",
       "      <td>0.0</td>\n",
       "      <td>0.0</td>\n",
       "      <td>0.0</td>\n",
       "      <td>0.0</td>\n",
       "      <td>0.0</td>\n",
       "      <td>...</td>\n",
       "      <td>0.0</td>\n",
       "      <td>0.0</td>\n",
       "      <td>0.0</td>\n",
       "      <td>0.0</td>\n",
       "      <td>0.0</td>\n",
       "      <td>0.0</td>\n",
       "      <td>0.0</td>\n",
       "      <td>0.0</td>\n",
       "      <td>1.0</td>\n",
       "      <td>1</td>\n",
       "    </tr>\n",
       "    <tr>\n",
       "      <th>3</th>\n",
       "      <td>1.0</td>\n",
       "      <td>0.0</td>\n",
       "      <td>0.0</td>\n",
       "      <td>0.0</td>\n",
       "      <td>0.0</td>\n",
       "      <td>0.0</td>\n",
       "      <td>0.0</td>\n",
       "      <td>0.0</td>\n",
       "      <td>0.0</td>\n",
       "      <td>0.0</td>\n",
       "      <td>...</td>\n",
       "      <td>0.0</td>\n",
       "      <td>0.0</td>\n",
       "      <td>0.0</td>\n",
       "      <td>1.0</td>\n",
       "      <td>0.0</td>\n",
       "      <td>0.0</td>\n",
       "      <td>0.0</td>\n",
       "      <td>0.0</td>\n",
       "      <td>0.0</td>\n",
       "      <td>1</td>\n",
       "    </tr>\n",
       "    <tr>\n",
       "      <th>4</th>\n",
       "      <td>0.0</td>\n",
       "      <td>0.0</td>\n",
       "      <td>0.0</td>\n",
       "      <td>0.0</td>\n",
       "      <td>0.0</td>\n",
       "      <td>1.0</td>\n",
       "      <td>0.0</td>\n",
       "      <td>0.0</td>\n",
       "      <td>0.0</td>\n",
       "      <td>0.0</td>\n",
       "      <td>...</td>\n",
       "      <td>0.0</td>\n",
       "      <td>0.0</td>\n",
       "      <td>0.0</td>\n",
       "      <td>0.0</td>\n",
       "      <td>0.0</td>\n",
       "      <td>0.0</td>\n",
       "      <td>0.0</td>\n",
       "      <td>0.0</td>\n",
       "      <td>0.0</td>\n",
       "      <td>1</td>\n",
       "    </tr>\n",
       "  </tbody>\n",
       "</table>\n",
       "<p>5 rows × 40 columns</p>\n",
       "</div>"
      ],
      "text/plain": [
       "   Math & Science  Care & Hunger  Warmth  Music & The Arts  Special Needs  \\\n",
       "0             0.0            0.0     0.0               0.0            0.0   \n",
       "1             0.0            0.0     0.0               0.0            0.0   \n",
       "2             0.0            0.0     0.0               1.0            0.0   \n",
       "3             1.0            0.0     0.0               0.0            0.0   \n",
       "4             0.0            0.0     0.0               0.0            0.0   \n",
       "\n",
       "   Health & Sports  Applied Learning  Literacy & Language  History & Civics  \\\n",
       "0              0.0               0.0                  1.0               0.0   \n",
       "1              0.0               0.0                  1.0               0.0   \n",
       "2              0.0               0.0                  0.0               0.0   \n",
       "3              0.0               0.0                  0.0               0.0   \n",
       "4              1.0               0.0                  0.0               0.0   \n",
       "\n",
       "   Character Education         ...           Special Needs  Other  \\\n",
       "0                  0.0         ...                     0.0    0.0   \n",
       "1                  0.0         ...                     0.0    0.0   \n",
       "2                  0.0         ...                     0.0    0.0   \n",
       "3                  0.0         ...                     0.0    0.0   \n",
       "4                  0.0         ...                     0.0    0.0   \n",
       "\n",
       "   Visual Arts  Environmental Science  Performing Arts  Nutrition Education  \\\n",
       "0          0.0                    0.0              0.0                  0.0   \n",
       "1          0.0                    0.0              0.0                  0.0   \n",
       "2          0.0                    0.0              0.0                  0.0   \n",
       "3          0.0                    1.0              0.0                  0.0   \n",
       "4          0.0                    0.0              0.0                  0.0   \n",
       "\n",
       "   Health & Life Science  Health & Wellness  Music  project_is_approved  \n",
       "0                    0.0                0.0    0.0                    1  \n",
       "1                    0.0                0.0    0.0                    1  \n",
       "2                    0.0                0.0    1.0                    1  \n",
       "3                    0.0                0.0    0.0                    1  \n",
       "4                    0.0                0.0    0.0                    1  \n",
       "\n",
       "[5 rows x 40 columns]"
      ]
     },
     "execution_count": 224,
     "metadata": {},
     "output_type": "execute_result"
    }
   ],
   "source": [
    "df.head()"
   ]
  },
  {
   "cell_type": "code",
   "execution_count": 244,
   "metadata": {},
   "outputs": [],
   "source": [
    "import seaborn as sns\n",
    "corr = df[['Math & Science', 'Care & Hunger', 'Warmth', 'Music & The Arts',\n",
    "       'Special Needs', 'Health & Sports', 'Applied Learning',\n",
    "       'Literacy & Language', 'History & Civics', 'project_is_approved']].corr()\n",
    "\n",
    "corr2 = df[['Applied Sciences',\n",
    " 'Character Education',\n",
    " 'Civics & Government',\n",
    " 'College & Career Prep',\n",
    " 'Community Service',\n",
    " 'ESL',\n",
    " 'Early Development',\n",
    " 'Economics',\n",
    " 'Environmental Science',\n",
    " 'Extracurricular',\n",
    " 'Financial Literacy',\n",
    " 'Foreign Languages',\n",
    " 'Gym & Fitness',\n",
    " 'Health & Life Science',\n",
    " 'Health & Wellness',\n",
    " 'History & Geography',\n",
    " 'Literacy',\n",
    " 'Literature & Writing',\n",
    " 'Mathematics',\n",
    " 'Music',\n",
    " 'Nutrition Education',\n",
    " 'Other',\n",
    " 'Parent Involvement',\n",
    " 'Performing Arts',\n",
    " 'Social Sciences',\n",
    " 'Team Sports',\n",
    " 'Visual Arts', 'project_is_approved']].corr()"
   ]
  },
  {
   "cell_type": "code",
   "execution_count": 242,
   "metadata": {},
   "outputs": [
    {
     "data": {
      "text/plain": [
       "<matplotlib.axes._subplots.AxesSubplot at 0x1a20eb67b8>"
      ]
     },
     "execution_count": 242,
     "metadata": {},
     "output_type": "execute_result"
    },
    {
     "data": {
      "image/png": "[encoded data removed]",
      "text/plain": [
       "<Figure size 504x432 with 2 Axes>"
      ]
     },
     "metadata": {},
     "output_type": "display_data"
    }
   ],
   "source": [
    "\n",
    "# Set up the matplotlib figure\n",
    "f, ax = plt.subplots(figsize=(7, 6))\n",
    "\n",
    "# Generate a custom diverging colormap\n",
    "cmap = sns.diverging_palette(220, 10, as_cmap=True)\n",
    "\n",
    "# Draw the heatmap with the mask and correct aspect ratio\n",
    "sns.heatmap(corr, cmap=cmap, vmax=.3, center=0,\n",
    "            square=True, linewidths=.5, cbar_kws={\"shrink\": .5})"
   ]
  },
  {
   "cell_type": "code",
   "execution_count": 246,
   "metadata": {},
   "outputs": [
    {
     "data": {
      "text/plain": [
       "<matplotlib.axes._subplots.AxesSubplot at 0x1a211755c0>"
      ]
     },
     "execution_count": 246,
     "metadata": {},
     "output_type": "execute_result"
    },
    {
     "data": {
      "image/png": "[encoded data removed]",
      "text/plain": [
       "<Figure size 864x720 with 2 Axes>"
      ]
     },
     "metadata": {},
     "output_type": "display_data"
    }
   ],
   "source": [
    "\n",
    "# Set up the matplotlib figure\n",
    "f, ax = plt.subplots(figsize=(12, 10))\n",
    "\n",
    "# Generate a custom diverging colormap\n",
    "cmap = sns.diverging_palette(220, 10, as_cmap=True)\n",
    "\n",
    "# Draw the heatmap with the mask and correct aspect ratio\n",
    "sns.heatmap(corr2, cmap=cmap, vmax=.3, center=0,\n",
    "            square=True, linewidths=.5, cbar_kws={\"shrink\": .5})"
   ]
  },
  {
   "cell_type": "code",
   "execution_count": 232,
   "metadata": {},
   "outputs": [
    {
     "data": {
      "text/plain": [
       "Index(['Math & Science', 'Care & Hunger', 'Warmth', 'Music & The Arts',\n",
       "       'Special Needs', 'Health & Sports', 'Applied Learning',\n",
       "       'Literacy & Language', 'History & Civics'],\n",
       "      dtype='object')"
      ]
     },
     "execution_count": 232,
     "metadata": {},
     "output_type": "execute_result"
    }
   ],
   "source": [
    "# Meme info que la categorie soit categorie ou subcategorie \n",
    "# lien entre Care&Hunger, Warmth, Literacy & Language et project is approved"
   ]
  },
  {
   "cell_type": "code",
   "execution_count": 236,
   "metadata": {},
   "outputs": [
    {
     "data": {
      "text/plain": [
       "['Math & Science',\n",
       " 'Care & Hunger',\n",
       " 'Warmth',\n",
       " 'Music & The Arts',\n",
       " 'Special Needs',\n",
       " 'Health & Sports',\n",
       " 'Applied Learning',\n",
       " 'Literacy & Language',\n",
       " 'History & Civics']"
      ]
     },
     "execution_count": 236,
     "metadata": {},
     "output_type": "execute_result"
    }
   ],
   "source": [
    "categories"
   ]
  },
  {
   "cell_type": "code",
   "execution_count": 237,
   "metadata": {},
   "outputs": [
    {
     "data": {
      "text/plain": [
       "{'Applied Sciences',\n",
       " 'Care & Hunger',\n",
       " 'Character Education',\n",
       " 'Civics & Government',\n",
       " 'College & Career Prep',\n",
       " 'Community Service',\n",
       " 'ESL',\n",
       " 'Early Development',\n",
       " 'Economics',\n",
       " 'Environmental Science',\n",
       " 'Extracurricular',\n",
       " 'Financial Literacy',\n",
       " 'Foreign Languages',\n",
       " 'Gym & Fitness',\n",
       " 'Health & Life Science',\n",
       " 'Health & Wellness',\n",
       " 'History & Geography',\n",
       " 'Literacy',\n",
       " 'Literature & Writing',\n",
       " 'Mathematics',\n",
       " 'Music',\n",
       " 'Nutrition Education',\n",
       " 'Other',\n",
       " 'Parent Involvement',\n",
       " 'Performing Arts',\n",
       " 'Social Sciences',\n",
       " 'Special Needs',\n",
       " 'Team Sports',\n",
       " 'Visual Arts',\n",
       " 'Warmth'}"
      ]
     },
     "execution_count": 237,
     "metadata": {},
     "output_type": "execute_result"
    }
   ],
   "source": [
    "subcategories"
   ]
  },
  {
   "cell_type": "code",
   "execution_count": 259,
   "metadata": {},
   "outputs": [
    {
     "name": "stderr",
     "output_type": "stream",
     "text": [
      "/Users/thaunay/anaconda3/envs/py36/lib/python3.6/site-packages/ipykernel_launcher.py:15: DataConversionWarning: A column-vector y was passed when a 1d array was expected. Please change the shape of y to (n_samples,), for example using ravel().\n",
      "  from ipykernel import kernelapp as app\n"
     ]
    },
    {
     "name": "stdout",
     "output_type": "stream",
     "text": [
      "Feature ranking:\n",
      "1. feature 7 (0.056186)\n",
      "2. feature 27 (0.053041)\n",
      "3. feature 9 (0.049110)\n",
      "4. feature 6 (0.040575)\n",
      "5. feature 16 (0.036326)\n",
      "6. feature 38 (0.035163)\n",
      "7. feature 25 (0.032200)\n",
      "8. feature 24 (0.032174)\n",
      "9. feature 22 (0.031254)\n",
      "10. feature 20 (0.029931)\n",
      "11. feature 8 (0.029671)\n",
      "12. feature 32 (0.029472)\n",
      "13. feature 29 (0.028486)\n",
      "14. feature 37 (0.027543)\n",
      "15. feature 18 (0.027429)\n",
      "16. feature 14 (0.027335)\n",
      "17. feature 3 (0.026294)\n",
      "18. feature 5 (0.026089)\n",
      "19. feature 33 (0.026061)\n",
      "20. feature 28 (0.025932)\n",
      "21. feature 12 (0.025698)\n",
      "22. feature 23 (0.024861)\n",
      "23. feature 31 (0.024802)\n",
      "24. feature 0 (0.024574)\n",
      "25. feature 36 (0.024276)\n",
      "26. feature 34 (0.022313)\n",
      "27. feature 19 (0.022064)\n",
      "28. feature 30 (0.021402)\n",
      "29. feature 4 (0.020860)\n",
      "30. feature 13 (0.020010)\n",
      "31. feature 35 (0.017202)\n",
      "32. feature 11 (0.017181)\n",
      "33. feature 17 (0.015711)\n",
      "34. feature 15 (0.010028)\n",
      "35. feature 1 (0.009054)\n",
      "36. feature 10 (0.008850)\n",
      "37. feature 26 (0.007234)\n",
      "38. feature 2 (0.007223)\n",
      "39. feature 21 (0.006383)\n"
     ]
    },
    {
     "data": {
      "image/png": "[encoded data removed]",
      "text/plain": [
       "<Figure size 432x288 with 1 Axes>"
      ]
     },
     "metadata": {},
     "output_type": "display_data"
    }
   ],
   "source": [
    "import numpy as np\n",
    "import matplotlib.pyplot as plt\n",
    "\n",
    "from sklearn.datasets import make_classification\n",
    "from sklearn.ensemble import ExtraTreesClassifier\n",
    "\n",
    "# Build a classification task using 3 informative features\n",
    "X =  df.drop([\"project_is_approved\"], axis=1)\n",
    "y = df[[\"project_is_approved\"]]\n",
    "\n",
    "# Build a forest and compute the feature importances\n",
    "forest = ExtraTreesClassifier(n_estimators=250,\n",
    "                              random_state=0)\n",
    "\n",
    "forest.fit(X, y)\n",
    "importances = forest.feature_importances_\n",
    "\n",
    "columns = df.columns\n",
    "std = np.std([tree.feature_importances_ for tree in forest.estimators_],\n",
    "             axis=0)\n",
    "indices = np.argsort(importances)[::-1]\n",
    "res = zip(importances, columns)\n",
    "\n",
    "\n",
    "# Print the feature ranking\n",
    "print(\"Feature ranking:\")\n",
    "\n",
    "for f in range(X.shape[1]):\n",
    "    print(\"%d. feature %d (%f)\" % (f + 1, indices[f], importances[indices[f]]))\n",
    "\n",
    "# Plot the feature importances of the forest\n",
    "plt.figure()\n",
    "plt.title(\"Feature importances\")\n",
    "plt.bar(range(X.shape[1]), importances[indices],\n",
    "       color=\"r\", yerr=std[indices], align=\"center\")\n",
    "plt.xticks(range(X.shape[1]), indices)\n",
    "plt.xlim([-1, X.shape[1]])\n",
    "plt.show()"
   ]
  },
  {
   "cell_type": "code",
   "execution_count": 261,
   "metadata": {},
   "outputs": [
    {
     "name": "stdout",
     "output_type": "stream",
     "text": [
      "<zip object at 0x1a24c5edc8>\n"
     ]
    }
   ],
   "source": [
    "print(res)"
   ]
  },
  {
   "cell_type": "code",
   "execution_count": null,
   "metadata": {
    "collapsed": true
   },
   "outputs": [],
   "source": []
  }
 ],
 "metadata": {
  "kernelspec": {
   "display_name": "Python 3",
   "language": "python",
   "name": "python3"
  },
  "language_info": {
   "codemirror_mode": {
    "name": "ipython",
    "version": 3
   },
   "file_extension": ".py",
   "mimetype": "text/x-python",
   "name": "python",
   "nbconvert_exporter": "python",
   "pygments_lexer": "ipython3",
   "version": "3.6.3"
  }
 },
 "nbformat": 4,
 "nbformat_minor": 2
}
